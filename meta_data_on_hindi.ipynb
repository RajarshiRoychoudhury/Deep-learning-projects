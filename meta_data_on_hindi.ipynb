{
  "nbformat": 4,
  "nbformat_minor": 0,
  "metadata": {
    "accelerator": "GPU",
    "colab": {
      "name": "meta_data_on_hindi.ipynb",
      "provenance": [],
      "collapsed_sections": [],
      "include_colab_link": true
    },
    "kernelspec": {
      "display_name": "Python 3",
      "language": "python",
      "name": "python3"
    },
    "language_info": {
      "codemirror_mode": {
        "name": "ipython",
        "version": 3
      },
      "file_extension": ".py",
      "mimetype": "text/x-python",
      "name": "python",
      "nbconvert_exporter": "python",
      "pygments_lexer": "ipython3",
      "version": "3.7.4"
    }
  },
  "cells": [
    {
      "cell_type": "markdown",
      "metadata": {
        "id": "view-in-github",
        "colab_type": "text"
      },
      "source": [
        "<a href=\"https://colab.research.google.com/github/RajarshiRoychoudhury/Deep-learning-projects/blob/master/meta_data_on_hindi.ipynb\" target=\"_parent\"><img src=\"https://colab.research.google.com/assets/colab-badge.svg\" alt=\"Open In Colab\"/></a>"
      ]
    },
    {
      "cell_type": "code",
      "metadata": {
        "colab_type": "code",
        "id": "8WkNAfy-CkrH",
        "colab": {
          "base_uri": "https://localhost:8080/",
          "height": 188
        },
        "outputId": "01aa182f-3abc-4443-a867-241c032e92ed"
      },
      "source": [
        "pip install wxconv"
      ],
      "execution_count": null,
      "outputs": [
        {
          "output_type": "stream",
          "text": [
            "Collecting wxconv\n",
            "\u001b[?25l  Downloading https://files.pythonhosted.org/packages/81/00/48af3164406d379f2edc95414b58d0250f814e6bc23c554696691ae0e1a0/wxconv-1.0.0.0-py2.py3-none-any.whl (5.8MB)\n",
            "\u001b[K     |████████████████████████████████| 5.8MB 6.6MB/s \n",
            "\u001b[?25hRequirement already satisfied: six<2.0,>=1.12 in /usr/local/lib/python3.6/dist-packages (from wxconv) (1.12.0)\n",
            "Collecting pbr<3.0,>=2.0\n",
            "\u001b[?25l  Downloading https://files.pythonhosted.org/packages/3f/fd/1ac92034e81906ff10d261f4d72141e75710188a25b7b958c5f7a23bbd30/pbr-2.1.0-py2.py3-none-any.whl (98kB)\n",
            "\u001b[K     |████████████████████████████████| 102kB 9.9MB/s \n",
            "\u001b[?25hInstalling collected packages: pbr, wxconv\n",
            "Successfully installed pbr-2.1.0 wxconv-1.0.0.0\n"
          ],
          "name": "stdout"
        }
      ]
    },
    {
      "cell_type": "code",
      "metadata": {
        "id": "xsyI4ojuC7yI",
        "colab_type": "code",
        "colab": {}
      },
      "source": [
        "pip install -q pyyaml h5py"
      ],
      "execution_count": null,
      "outputs": []
    },
    {
      "cell_type": "code",
      "metadata": {
        "colab_type": "code",
        "id": "kPORv8HtDNMc",
        "colab": {
          "base_uri": "https://localhost:8080/",
          "height": 34
        },
        "outputId": "b3100112-1c48-412e-db69-fcc71bfc4726"
      },
      "source": [
        "\n",
        "from wxconv import WXC\n",
        "from wxconv import WXC\n",
        "con = WXC(order='utf2wx')\n",
        "hin=\"देश के कई हिस्सों में सूखे के आसार उत्पन्न हो गए हैं\"\n",
        "print(con.convert(hin))"
      ],
      "execution_count": null,
      "outputs": [
        {
          "output_type": "stream",
          "text": [
            "xeSa ke kaI hissoM meM sUKe ke AsAra uwpanna ho gae hEM\n"
          ],
          "name": "stdout"
        }
      ]
    },
    {
      "cell_type": "code",
      "metadata": {
        "colab_type": "code",
        "id": "LtG0DBKUF4FS",
        "colab": {}
      },
      "source": [
        "import pandas as pd\n",
        "import numpy as np\n",
        "import os\n",
        "%matplotlib inline\n",
        "import matplotlib.pyplot as plt\n",
        "import tensorflow as tf"
      ],
      "execution_count": null,
      "outputs": []
    },
    {
      "cell_type": "code",
      "metadata": {
        "colab_type": "code",
        "id": "cGXOIZBtD0Mu",
        "colab": {
          "base_uri": "https://localhost:8080/",
          "height": 67
        },
        "outputId": "2093005f-584d-40f2-e3bf-e1771cc631c6"
      },
      "source": [
        "df1=pd.read_csv(\"BN_POS.txt\",sep=\"\\t\")\n",
        "df2=pd.read_csv(\"BN_NEG.txt\",sep=\"\\t\")\n",
        "df3=pd.read_csv(\"BN_NEU.txt\",sep=\"\\t\")\n",
        "df1.drop(\"None\",axis=1,inplace=True)\n",
        "df1[\"sentiment\"]=1\n",
        "df2.drop(\"None\",axis=1,inplace=True)\n",
        "df2[\"sentiment\"]=2\n",
        "df3.drop(\"None\",axis=1,inplace=True)\n",
        "df3[\"sentiment\"]=0\n",
        "#df1=df1[:2000]\n",
        "df2=df2[:2300]\n",
        "#df3=df3[:350]\n",
        "print(len(df1))\n",
        "print(len(df2))\n",
        "print(len(df3))"
      ],
      "execution_count": null,
      "outputs": [
        {
          "output_type": "stream",
          "text": [
            "1779\n",
            "2300\n",
            "359\n"
          ],
          "name": "stdout"
        }
      ]
    },
    {
      "cell_type": "code",
      "metadata": {
        "colab_type": "code",
        "id": "8lDDTSemF1po",
        "colab": {
          "base_uri": "https://localhost:8080/",
          "height": 402
        },
        "outputId": "32a8eab7-f2bc-42f3-dfdd-d3b186f54dd6"
      },
      "source": [
        "\n",
        "df=df1.append(df2)\n",
        "df=df.append(df3)\n",
        "df.index=np.arange(0,len(df.Word))\n",
        "df_beng=df\n",
        "df_beng"
      ],
      "execution_count": null,
      "outputs": [
        {
          "output_type": "execute_result",
          "data": {
            "text/html": [
              "<div>\n",
              "<style scoped>\n",
              "    .dataframe tbody tr th:only-of-type {\n",
              "        vertical-align: middle;\n",
              "    }\n",
              "\n",
              "    .dataframe tbody tr th {\n",
              "        vertical-align: top;\n",
              "    }\n",
              "\n",
              "    .dataframe thead th {\n",
              "        text-align: right;\n",
              "    }\n",
              "</style>\n",
              "<table border=\"1\" class=\"dataframe\">\n",
              "  <thead>\n",
              "    <tr style=\"text-align: right;\">\n",
              "      <th></th>\n",
              "      <th>Type</th>\n",
              "      <th>Word</th>\n",
              "      <th>sentiment</th>\n",
              "    </tr>\n",
              "  </thead>\n",
              "  <tbody>\n",
              "    <tr>\n",
              "      <th>0</th>\n",
              "      <td>a</td>\n",
              "      <td>অকলঙ্ক</td>\n",
              "      <td>1</td>\n",
              "    </tr>\n",
              "    <tr>\n",
              "      <th>1</th>\n",
              "      <td>a</td>\n",
              "      <td>অকৃত্রিম</td>\n",
              "      <td>1</td>\n",
              "    </tr>\n",
              "    <tr>\n",
              "      <th>2</th>\n",
              "      <td>a</td>\n",
              "      <td>অক্লান্ত</td>\n",
              "      <td>1</td>\n",
              "    </tr>\n",
              "    <tr>\n",
              "      <th>3</th>\n",
              "      <td>a</td>\n",
              "      <td>অক্ষয়</td>\n",
              "      <td>1</td>\n",
              "    </tr>\n",
              "    <tr>\n",
              "      <th>4</th>\n",
              "      <td>a</td>\n",
              "      <td>অখণ্ড</td>\n",
              "      <td>1</td>\n",
              "    </tr>\n",
              "    <tr>\n",
              "      <th>...</th>\n",
              "      <td>...</td>\n",
              "      <td>...</td>\n",
              "      <td>...</td>\n",
              "    </tr>\n",
              "    <tr>\n",
              "      <th>4433</th>\n",
              "      <td>v</td>\n",
              "      <td>সিদ্ধান্ত</td>\n",
              "      <td>0</td>\n",
              "    </tr>\n",
              "    <tr>\n",
              "      <th>4434</th>\n",
              "      <td>v</td>\n",
              "      <td>সূক্ষ্ম_বিশ্লেষণ_করা</td>\n",
              "      <td>0</td>\n",
              "    </tr>\n",
              "    <tr>\n",
              "      <th>4435</th>\n",
              "      <td>v</td>\n",
              "      <td>স্পর্শ</td>\n",
              "      <td>0</td>\n",
              "    </tr>\n",
              "    <tr>\n",
              "      <th>4436</th>\n",
              "      <td>v</td>\n",
              "      <td>স্বগতোক্তি_করা</td>\n",
              "      <td>0</td>\n",
              "    </tr>\n",
              "    <tr>\n",
              "      <th>4437</th>\n",
              "      <td>v</td>\n",
              "      <td>স্বাদ</td>\n",
              "      <td>0</td>\n",
              "    </tr>\n",
              "  </tbody>\n",
              "</table>\n",
              "<p>4438 rows × 3 columns</p>\n",
              "</div>"
            ],
            "text/plain": [
              "     Type                  Word  sentiment\n",
              "0       a                অকলঙ্ক          1\n",
              "1       a              অকৃত্রিম          1\n",
              "2       a              অক্লান্ত          1\n",
              "3       a                অক্ষয়          1\n",
              "4       a                 অখণ্ড          1\n",
              "...   ...                   ...        ...\n",
              "4433    v             সিদ্ধান্ত          0\n",
              "4434    v  সূক্ষ্ম_বিশ্লেষণ_করা          0\n",
              "4435    v                স্পর্শ          0\n",
              "4436    v        স্বগতোক্তি_করা          0\n",
              "4437    v                 স্বাদ          0\n",
              "\n",
              "[4438 rows x 3 columns]"
            ]
          },
          "metadata": {
            "tags": []
          },
          "execution_count": 6
        }
      ]
    },
    {
      "cell_type": "code",
      "metadata": {
        "colab_type": "code",
        "id": "rVM-yYBTXtE6",
        "colab": {
          "base_uri": "https://localhost:8080/",
          "height": 101
        },
        "outputId": "2706be2f-cc4e-48be-c69f-fdc4017a82b0"
      },
      "source": [
        "for i in range (len(df_beng)):\n",
        "    con = WXC(order='utf2wx',lang='ben')\n",
        "    a=con.convert(str(df_beng.Word[i]))\n",
        "    df_beng.iloc[i,1]=a\n",
        "    if i<5:\n",
        "      print(df_beng.Word[i])\n"
      ],
      "execution_count": null,
      "outputs": [
        {
          "output_type": "stream",
          "text": [
            "akalafka\n",
            "akqwrima\n",
            "aklAnwa\n",
            "akRayZa\n",
            "aKaNda\n"
          ],
          "name": "stdout"
        }
      ]
    },
    {
      "cell_type": "code",
      "metadata": {
        "colab_type": "code",
        "id": "Gd_9Uu1OGNNn",
        "colab": {
          "base_uri": "https://localhost:8080/",
          "height": 67
        },
        "outputId": "8d69477d-6fb7-4384-eb16-4e9adc0974dd"
      },
      "source": [
        "\n",
        "df1=pd.read_csv(\"HN_POS.txt\",sep=\"\\t\")\n",
        "df2=pd.read_csv(\"HN_NEG.txt\",sep=\"\\t\")\n",
        "df3=pd.read_csv(\"HN_NEU.txt\",sep=\"\\t\")\n",
        "df1.drop(\"None\",axis=1,inplace=True)\n",
        "df1[\"sentiment\"]=1\n",
        "df2.drop(\"None\",axis=1,inplace=True)\n",
        "df2[\"sentiment\"]=2\n",
        "df3.drop(\"None\",axis=1,inplace=True)\n",
        "df3[\"sentiment\"]=0\n",
        "print(len(df1))\n",
        "print(len(df2))\n",
        "print(len(df3))"
      ],
      "execution_count": null,
      "outputs": [
        {
          "output_type": "stream",
          "text": [
            "2313\n",
            "2337\n",
            "371\n"
          ],
          "name": "stdout"
        }
      ]
    },
    {
      "cell_type": "code",
      "metadata": {
        "colab_type": "code",
        "id": "OLqQ6EDqX00h",
        "colab": {}
      },
      "source": [
        ""
      ],
      "execution_count": null,
      "outputs": []
    },
    {
      "cell_type": "code",
      "metadata": {
        "colab_type": "code",
        "id": "x6WnUolSGTig",
        "colab": {
          "base_uri": "https://localhost:8080/",
          "height": 402
        },
        "outputId": "8554b257-d76c-4d10-8c43-6067c6aea551"
      },
      "source": [
        "df=df1.append(df2)\n",
        "df=df.append(df3)\n",
        "df.index=np.arange(0,len(df.Word))\n",
        "df_hindi=df\n",
        "df_hindi"
      ],
      "execution_count": null,
      "outputs": [
        {
          "output_type": "execute_result",
          "data": {
            "text/html": [
              "<div>\n",
              "<style scoped>\n",
              "    .dataframe tbody tr th:only-of-type {\n",
              "        vertical-align: middle;\n",
              "    }\n",
              "\n",
              "    .dataframe tbody tr th {\n",
              "        vertical-align: top;\n",
              "    }\n",
              "\n",
              "    .dataframe thead th {\n",
              "        text-align: right;\n",
              "    }\n",
              "</style>\n",
              "<table border=\"1\" class=\"dataframe\">\n",
              "  <thead>\n",
              "    <tr style=\"text-align: right;\">\n",
              "      <th></th>\n",
              "      <th>Type</th>\n",
              "      <th>Word</th>\n",
              "      <th>sentiment</th>\n",
              "    </tr>\n",
              "  </thead>\n",
              "  <tbody>\n",
              "    <tr>\n",
              "      <th>0</th>\n",
              "      <td>a</td>\n",
              "      <td>अग्रिम</td>\n",
              "      <td>1</td>\n",
              "    </tr>\n",
              "    <tr>\n",
              "      <th>1</th>\n",
              "      <td>a</td>\n",
              "      <td>अचूक</td>\n",
              "      <td>1</td>\n",
              "    </tr>\n",
              "    <tr>\n",
              "      <th>2</th>\n",
              "      <td>a</td>\n",
              "      <td>अच्छा</td>\n",
              "      <td>1</td>\n",
              "    </tr>\n",
              "    <tr>\n",
              "      <th>3</th>\n",
              "      <td>a</td>\n",
              "      <td>अच्छी_तरह_से_चलाने</td>\n",
              "      <td>1</td>\n",
              "    </tr>\n",
              "    <tr>\n",
              "      <th>4</th>\n",
              "      <td>a</td>\n",
              "      <td>अच्छी_तरह_से_जुड़ा</td>\n",
              "      <td>1</td>\n",
              "    </tr>\n",
              "    <tr>\n",
              "      <th>...</th>\n",
              "      <td>...</td>\n",
              "      <td>...</td>\n",
              "      <td>...</td>\n",
              "    </tr>\n",
              "    <tr>\n",
              "      <th>5016</th>\n",
              "      <td>v</td>\n",
              "      <td>स्पर्श</td>\n",
              "      <td>0</td>\n",
              "    </tr>\n",
              "    <tr>\n",
              "      <th>5017</th>\n",
              "      <td>v</td>\n",
              "      <td>स्वगत_भाषण_करना</td>\n",
              "      <td>0</td>\n",
              "    </tr>\n",
              "    <tr>\n",
              "      <th>5018</th>\n",
              "      <td>v</td>\n",
              "      <td>स्वाद</td>\n",
              "      <td>0</td>\n",
              "    </tr>\n",
              "    <tr>\n",
              "      <th>5019</th>\n",
              "      <td>v</td>\n",
              "      <td>हलचल</td>\n",
              "      <td>0</td>\n",
              "    </tr>\n",
              "    <tr>\n",
              "      <th>5020</th>\n",
              "      <td>v</td>\n",
              "      <td>हवा</td>\n",
              "      <td>0</td>\n",
              "    </tr>\n",
              "  </tbody>\n",
              "</table>\n",
              "<p>5021 rows × 3 columns</p>\n",
              "</div>"
            ],
            "text/plain": [
              "     Type                Word  sentiment\n",
              "0       a              अग्रिम          1\n",
              "1       a                अचूक          1\n",
              "2       a               अच्छा          1\n",
              "3       a  अच्छी_तरह_से_चलाने          1\n",
              "4       a  अच्छी_तरह_से_जुड़ा          1\n",
              "...   ...                 ...        ...\n",
              "5016    v              स्पर्श          0\n",
              "5017    v     स्वगत_भाषण_करना          0\n",
              "5018    v               स्वाद          0\n",
              "5019    v                हलचल          0\n",
              "5020    v                 हवा          0\n",
              "\n",
              "[5021 rows x 3 columns]"
            ]
          },
          "metadata": {
            "tags": []
          },
          "execution_count": 9
        }
      ]
    },
    {
      "cell_type": "code",
      "metadata": {
        "colab_type": "code",
        "id": "YYGUXT4YYW0j",
        "colab": {}
      },
      "source": [
        "for i in range (len(df_hindi)):\n",
        "    con = WXC(order='utf2wx',lang='hin')\n",
        "    a=con.convert(str(df_hindi.Word[i]))\n",
        "    df_hindi.iloc[i,1]=a\n"
      ],
      "execution_count": null,
      "outputs": []
    },
    {
      "cell_type": "code",
      "metadata": {
        "colab_type": "code",
        "id": "fr-dVnYKMWxJ",
        "colab": {
          "base_uri": "https://localhost:8080/",
          "height": 67
        },
        "outputId": "defe48bf-b149-4c31-cca2-77519a75702f"
      },
      "source": [
        "df1=pd.read_csv(\"TE_POS.txt\",delimiter=\"\\s+\")\n",
        "df2=pd.read_csv(\"TE_NEG.txt\",delimiter=\"\\s+\")\n",
        "df3=pd.read_csv(\"TE_NEU.txt\",delimiter=\"\\s+\")\n",
        "df1.drop(\"None\",axis=1,inplace=True)\n",
        "df1[\"sentiment\"]=1\n",
        "df2.drop(\"None\",axis=1,inplace=True)\n",
        "df2[\"sentiment\"]=2\n",
        "df3.drop(\"None\",axis=1,inplace=True)\n",
        "df3[\"sentiment\"]=0\n",
        "#df1=df1[:2000]\n",
        "df2=df2[:2300]\n",
        "#df3=df3[:350]\n",
        "print(len(df1))\n",
        "print(len(df2))\n",
        "print(len(df3))"
      ],
      "execution_count": null,
      "outputs": [
        {
          "output_type": "stream",
          "text": [
            "2136\n",
            "2300\n",
            "359\n"
          ],
          "name": "stdout"
        }
      ]
    },
    {
      "cell_type": "code",
      "metadata": {
        "colab_type": "code",
        "id": "ZsoYZ639X8TA",
        "colab": {}
      },
      "source": [
        "\n"
      ],
      "execution_count": null,
      "outputs": []
    },
    {
      "cell_type": "code",
      "metadata": {
        "colab_type": "code",
        "id": "04cF5Pa-Mcwb",
        "colab": {
          "base_uri": "https://localhost:8080/",
          "height": 402
        },
        "outputId": "e16930d7-f8d6-4066-bcef-19255710868e"
      },
      "source": [
        "df=df1.append(df2)\n",
        "df=df.append(df3)\n",
        "df.index=np.arange(0,len(df.Word))\n",
        "df_telegu=df\n",
        "df_telegu"
      ],
      "execution_count": null,
      "outputs": [
        {
          "output_type": "execute_result",
          "data": {
            "text/html": [
              "<div>\n",
              "<style scoped>\n",
              "    .dataframe tbody tr th:only-of-type {\n",
              "        vertical-align: middle;\n",
              "    }\n",
              "\n",
              "    .dataframe tbody tr th {\n",
              "        vertical-align: top;\n",
              "    }\n",
              "\n",
              "    .dataframe thead th {\n",
              "        text-align: right;\n",
              "    }\n",
              "</style>\n",
              "<table border=\"1\" class=\"dataframe\">\n",
              "  <thead>\n",
              "    <tr style=\"text-align: right;\">\n",
              "      <th></th>\n",
              "      <th>Type</th>\n",
              "      <th>Word</th>\n",
              "      <th>sentiment</th>\n",
              "    </tr>\n",
              "  </thead>\n",
              "  <tbody>\n",
              "    <tr>\n",
              "      <th>0</th>\n",
              "      <td>a</td>\n",
              "      <td>అంకితభావం</td>\n",
              "      <td>1</td>\n",
              "    </tr>\n",
              "    <tr>\n",
              "      <th>1</th>\n",
              "      <td>a</td>\n",
              "      <td>అందమైన</td>\n",
              "      <td>1</td>\n",
              "    </tr>\n",
              "    <tr>\n",
              "      <th>2</th>\n",
              "      <td>a</td>\n",
              "      <td>అక్షరాస్యులు</td>\n",
              "      <td>1</td>\n",
              "    </tr>\n",
              "    <tr>\n",
              "      <th>3</th>\n",
              "      <td>a</td>\n",
              "      <td>అతి_కోపిష్టి</td>\n",
              "      <td>1</td>\n",
              "    </tr>\n",
              "    <tr>\n",
              "      <th>4</th>\n",
              "      <td>a</td>\n",
              "      <td>అతి_చురుకైన</td>\n",
              "      <td>1</td>\n",
              "    </tr>\n",
              "    <tr>\n",
              "      <th>...</th>\n",
              "      <td>...</td>\n",
              "      <td>...</td>\n",
              "      <td>...</td>\n",
              "    </tr>\n",
              "    <tr>\n",
              "      <th>4790</th>\n",
              "      <td>v</td>\n",
              "      <td>శోషిత</td>\n",
              "      <td>0</td>\n",
              "    </tr>\n",
              "    <tr>\n",
              "      <th>4791</th>\n",
              "      <td>v</td>\n",
              "      <td>సన్నిహిత</td>\n",
              "      <td>0</td>\n",
              "    </tr>\n",
              "    <tr>\n",
              "      <th>4792</th>\n",
              "      <td>v</td>\n",
              "      <td>స్టైర్</td>\n",
              "      <td>0</td>\n",
              "    </tr>\n",
              "    <tr>\n",
              "      <th>4793</th>\n",
              "      <td>v</td>\n",
              "      <td>స్పందించలేదు</td>\n",
              "      <td>0</td>\n",
              "    </tr>\n",
              "    <tr>\n",
              "      <th>4794</th>\n",
              "      <td>v</td>\n",
              "      <td>హేతు_బద్దంగా</td>\n",
              "      <td>0</td>\n",
              "    </tr>\n",
              "  </tbody>\n",
              "</table>\n",
              "<p>4795 rows × 3 columns</p>\n",
              "</div>"
            ],
            "text/plain": [
              "     Type          Word  sentiment\n",
              "0       a     అంకితభావం          1\n",
              "1       a       అందమైన          1\n",
              "2       a  అక్షరాస్యులు          1\n",
              "3       a  అతి_కోపిష్టి          1\n",
              "4       a  అతి_చురుకైన          1\n",
              "...   ...           ...        ...\n",
              "4790    v         శోషిత          0\n",
              "4791    v      సన్నిహిత          0\n",
              "4792    v       స్టైర్          0\n",
              "4793    v  స్పందించలేదు          0\n",
              "4794    v  హేతు_బద్దంగా          0\n",
              "\n",
              "[4795 rows x 3 columns]"
            ]
          },
          "metadata": {
            "tags": []
          },
          "execution_count": 12
        }
      ]
    },
    {
      "cell_type": "code",
      "metadata": {
        "colab_type": "code",
        "id": "Dlt4MgpcYGJ2",
        "colab": {}
      },
      "source": [
        "for i in range (len(df_telegu)):\n",
        "    con = WXC(order='utf2wx',lang='tel')\n",
        "    a=con.convert(str(df_telegu.Word[i]))\n",
        "    df_telegu.iloc[i,1]=a\n"
      ],
      "execution_count": null,
      "outputs": []
    },
    {
      "cell_type": "code",
      "metadata": {
        "colab_type": "code",
        "id": "rAIvwK6ROfLR",
        "colab": {
          "base_uri": "https://localhost:8080/",
          "height": 452
        },
        "outputId": "c19c3437-014e-4238-ef2b-e3add8edc01c"
      },
      "source": [
        "df1=pd.read_csv(\"TA_POS.txt\",delimiter=\"\\s+\")\n",
        "df2=pd.read_csv(\"TA_NEG.txt\",delimiter=\"\\s+\")\n",
        "df3=pd.read_csv(\"TA_NEU.txt\",delimiter=\"\\s+\")\n",
        "df1.drop(\"None\",axis=1,inplace=True)\n",
        "df1[\"sentiment\"]=1\n",
        "df2.drop(\"None\",axis=1,inplace=True)\n",
        "df2[\"sentiment\"]=2\n",
        "df3.drop(\"None\",axis=1,inplace=True)\n",
        "df3[\"sentiment\"]=0\n",
        "#df1=df1[:2000]\n",
        "df2=df2[:2300]\n",
        "#df3=df3[:350]\n",
        "print(len(df1))\n",
        "print(len(df2))\n",
        "print(len(df3))\n",
        "df1"
      ],
      "execution_count": null,
      "outputs": [
        {
          "output_type": "stream",
          "text": [
            "2225\n",
            "2300\n",
            "361\n"
          ],
          "name": "stdout"
        },
        {
          "output_type": "execute_result",
          "data": {
            "text/html": [
              "<div>\n",
              "<style scoped>\n",
              "    .dataframe tbody tr th:only-of-type {\n",
              "        vertical-align: middle;\n",
              "    }\n",
              "\n",
              "    .dataframe tbody tr th {\n",
              "        vertical-align: top;\n",
              "    }\n",
              "\n",
              "    .dataframe thead th {\n",
              "        text-align: right;\n",
              "    }\n",
              "</style>\n",
              "<table border=\"1\" class=\"dataframe\">\n",
              "  <thead>\n",
              "    <tr style=\"text-align: right;\">\n",
              "      <th></th>\n",
              "      <th>Type</th>\n",
              "      <th>Word</th>\n",
              "      <th>sentiment</th>\n",
              "    </tr>\n",
              "  </thead>\n",
              "  <tbody>\n",
              "    <tr>\n",
              "      <th>0</th>\n",
              "      <td>a</td>\n",
              "      <td>அக்கறை_அற்ற</td>\n",
              "      <td>1</td>\n",
              "    </tr>\n",
              "    <tr>\n",
              "      <th>1</th>\n",
              "      <td>a</td>\n",
              "      <td>அசல்</td>\n",
              "      <td>1</td>\n",
              "    </tr>\n",
              "    <tr>\n",
              "      <th>2</th>\n",
              "      <td>a</td>\n",
              "      <td>அசாதாரணமானது</td>\n",
              "      <td>1</td>\n",
              "    </tr>\n",
              "    <tr>\n",
              "      <th>3</th>\n",
              "      <td>a</td>\n",
              "      <td>அசுத்தமான</td>\n",
              "      <td>1</td>\n",
              "    </tr>\n",
              "    <tr>\n",
              "      <th>4</th>\n",
              "      <td>a</td>\n",
              "      <td>அசைக்க</td>\n",
              "      <td>1</td>\n",
              "    </tr>\n",
              "    <tr>\n",
              "      <th>...</th>\n",
              "      <td>...</td>\n",
              "      <td>...</td>\n",
              "      <td>...</td>\n",
              "    </tr>\n",
              "    <tr>\n",
              "      <th>2220</th>\n",
              "      <td>v</td>\n",
              "      <td>வெற்றி_பெற்றுவிட்ட</td>\n",
              "      <td>1</td>\n",
              "    </tr>\n",
              "    <tr>\n",
              "      <th>2221</th>\n",
              "      <td>v</td>\n",
              "      <td>வேடிக்கைப்</td>\n",
              "      <td>1</td>\n",
              "    </tr>\n",
              "    <tr>\n",
              "      <th>2222</th>\n",
              "      <td>v</td>\n",
              "      <td>வேலை</td>\n",
              "      <td>1</td>\n",
              "    </tr>\n",
              "    <tr>\n",
              "      <th>2223</th>\n",
              "      <td>v</td>\n",
              "      <td>ஸ்திரப்படுத்தவும்</td>\n",
              "      <td>1</td>\n",
              "    </tr>\n",
              "    <tr>\n",
              "      <th>2224</th>\n",
              "      <td>v</td>\n",
              "      <td>ஸ்பாட்</td>\n",
              "      <td>1</td>\n",
              "    </tr>\n",
              "  </tbody>\n",
              "</table>\n",
              "<p>2225 rows × 3 columns</p>\n",
              "</div>"
            ],
            "text/plain": [
              "     Type                Word  sentiment\n",
              "0       a         அக்கறை_அற்ற          1\n",
              "1       a                அசல்          1\n",
              "2       a        அசாதாரணமானது          1\n",
              "3       a           அசுத்தமான          1\n",
              "4       a              அசைக்க          1\n",
              "...   ...                 ...        ...\n",
              "2220    v  வெற்றி_பெற்றுவிட்ட          1\n",
              "2221    v          வேடிக்கைப்          1\n",
              "2222    v                வேலை          1\n",
              "2223    v   ஸ்திரப்படுத்தவும்          1\n",
              "2224    v              ஸ்பாட்          1\n",
              "\n",
              "[2225 rows x 3 columns]"
            ]
          },
          "metadata": {
            "tags": []
          },
          "execution_count": 14
        }
      ]
    },
    {
      "cell_type": "code",
      "metadata": {
        "colab_type": "code",
        "id": "zlSmsnrUOlxC",
        "colab": {
          "base_uri": "https://localhost:8080/",
          "height": 402
        },
        "outputId": "f02c8d34-a164-4e53-d478-19e88eecd6c6"
      },
      "source": [
        "df=df1.append(df2)\n",
        "df=df.append(df3)\n",
        "df.index=np.arange(0,len(df.Word))\n",
        "df_tamil=df\n",
        "df_tamil\n"
      ],
      "execution_count": null,
      "outputs": [
        {
          "output_type": "execute_result",
          "data": {
            "text/html": [
              "<div>\n",
              "<style scoped>\n",
              "    .dataframe tbody tr th:only-of-type {\n",
              "        vertical-align: middle;\n",
              "    }\n",
              "\n",
              "    .dataframe tbody tr th {\n",
              "        vertical-align: top;\n",
              "    }\n",
              "\n",
              "    .dataframe thead th {\n",
              "        text-align: right;\n",
              "    }\n",
              "</style>\n",
              "<table border=\"1\" class=\"dataframe\">\n",
              "  <thead>\n",
              "    <tr style=\"text-align: right;\">\n",
              "      <th></th>\n",
              "      <th>Type</th>\n",
              "      <th>Word</th>\n",
              "      <th>sentiment</th>\n",
              "    </tr>\n",
              "  </thead>\n",
              "  <tbody>\n",
              "    <tr>\n",
              "      <th>0</th>\n",
              "      <td>a</td>\n",
              "      <td>அக்கறை_அற்ற</td>\n",
              "      <td>1</td>\n",
              "    </tr>\n",
              "    <tr>\n",
              "      <th>1</th>\n",
              "      <td>a</td>\n",
              "      <td>அசல்</td>\n",
              "      <td>1</td>\n",
              "    </tr>\n",
              "    <tr>\n",
              "      <th>2</th>\n",
              "      <td>a</td>\n",
              "      <td>அசாதாரணமானது</td>\n",
              "      <td>1</td>\n",
              "    </tr>\n",
              "    <tr>\n",
              "      <th>3</th>\n",
              "      <td>a</td>\n",
              "      <td>அசுத்தமான</td>\n",
              "      <td>1</td>\n",
              "    </tr>\n",
              "    <tr>\n",
              "      <th>4</th>\n",
              "      <td>a</td>\n",
              "      <td>அசைக்க</td>\n",
              "      <td>1</td>\n",
              "    </tr>\n",
              "    <tr>\n",
              "      <th>...</th>\n",
              "      <td>...</td>\n",
              "      <td>...</td>\n",
              "      <td>...</td>\n",
              "    </tr>\n",
              "    <tr>\n",
              "      <th>4881</th>\n",
              "      <td>v</td>\n",
              "      <td>வினை</td>\n",
              "      <td>0</td>\n",
              "    </tr>\n",
              "    <tr>\n",
              "      <th>4882</th>\n",
              "      <td>v</td>\n",
              "      <td>விமான</td>\n",
              "      <td>0</td>\n",
              "    </tr>\n",
              "    <tr>\n",
              "      <th>4883</th>\n",
              "      <td>v</td>\n",
              "      <td>விஷயம்</td>\n",
              "      <td>0</td>\n",
              "    </tr>\n",
              "    <tr>\n",
              "      <th>4884</th>\n",
              "      <td>v</td>\n",
              "      <td>வெறும்_ஊகம்</td>\n",
              "      <td>0</td>\n",
              "    </tr>\n",
              "    <tr>\n",
              "      <th>4885</th>\n",
              "      <td>v</td>\n",
              "      <td>ஹிப்னாடிசம்</td>\n",
              "      <td>0</td>\n",
              "    </tr>\n",
              "  </tbody>\n",
              "</table>\n",
              "<p>4886 rows × 3 columns</p>\n",
              "</div>"
            ],
            "text/plain": [
              "     Type          Word  sentiment\n",
              "0       a   அக்கறை_அற்ற          1\n",
              "1       a          அசல்          1\n",
              "2       a  அசாதாரணமானது          1\n",
              "3       a     அசுத்தமான          1\n",
              "4       a        அசைக்க          1\n",
              "...   ...           ...        ...\n",
              "4881    v          வினை          0\n",
              "4882    v         விமான          0\n",
              "4883    v        விஷயம்          0\n",
              "4884    v   வெறும்_ஊகம்          0\n",
              "4885    v   ஹிப்னாடிசம்          0\n",
              "\n",
              "[4886 rows x 3 columns]"
            ]
          },
          "metadata": {
            "tags": []
          },
          "execution_count": 15
        }
      ]
    },
    {
      "cell_type": "code",
      "metadata": {
        "colab_type": "code",
        "id": "eklhdJmOYJAt",
        "colab": {}
      },
      "source": [
        "\n",
        "for i in range (len(df_tamil)):\n",
        "    con = WXC(order='utf2wx',lang='tam')\n",
        "    a=con.convert(str(df_tamil.Word[i]))\n",
        "    df_tamil.iloc[i,1]=a\n"
      ],
      "execution_count": null,
      "outputs": []
    },
    {
      "cell_type": "code",
      "metadata": {
        "colab_type": "code",
        "id": "vhTThToFOrss",
        "colab": {
          "base_uri": "https://localhost:8080/",
          "height": 402
        },
        "outputId": "72e6ce5d-2d41-43e4-a09b-80cdb99d54b0"
      },
      "source": [
        "df_beng=df_beng.append(df_telegu)\n",
        "df_beng=df_beng.append(df_tamil)\n",
        "df=df_beng\n",
        "df.index=np.arange(0,len(df.Word))\n",
        "df"
      ],
      "execution_count": null,
      "outputs": [
        {
          "output_type": "execute_result",
          "data": {
            "text/html": [
              "<div>\n",
              "<style scoped>\n",
              "    .dataframe tbody tr th:only-of-type {\n",
              "        vertical-align: middle;\n",
              "    }\n",
              "\n",
              "    .dataframe tbody tr th {\n",
              "        vertical-align: top;\n",
              "    }\n",
              "\n",
              "    .dataframe thead th {\n",
              "        text-align: right;\n",
              "    }\n",
              "</style>\n",
              "<table border=\"1\" class=\"dataframe\">\n",
              "  <thead>\n",
              "    <tr style=\"text-align: right;\">\n",
              "      <th></th>\n",
              "      <th>Type</th>\n",
              "      <th>Word</th>\n",
              "      <th>sentiment</th>\n",
              "    </tr>\n",
              "  </thead>\n",
              "  <tbody>\n",
              "    <tr>\n",
              "      <th>0</th>\n",
              "      <td>a</td>\n",
              "      <td>akalafka</td>\n",
              "      <td>1</td>\n",
              "    </tr>\n",
              "    <tr>\n",
              "      <th>1</th>\n",
              "      <td>a</td>\n",
              "      <td>akqwrima</td>\n",
              "      <td>1</td>\n",
              "    </tr>\n",
              "    <tr>\n",
              "      <th>2</th>\n",
              "      <td>a</td>\n",
              "      <td>aklAnwa</td>\n",
              "      <td>1</td>\n",
              "    </tr>\n",
              "    <tr>\n",
              "      <th>3</th>\n",
              "      <td>a</td>\n",
              "      <td>akRayZa</td>\n",
              "      <td>1</td>\n",
              "    </tr>\n",
              "    <tr>\n",
              "      <th>4</th>\n",
              "      <td>a</td>\n",
              "      <td>aKaNda</td>\n",
              "      <td>1</td>\n",
              "    </tr>\n",
              "    <tr>\n",
              "      <th>...</th>\n",
              "      <td>...</td>\n",
              "      <td>...</td>\n",
              "      <td>...</td>\n",
              "    </tr>\n",
              "    <tr>\n",
              "      <th>14114</th>\n",
              "      <td>v</td>\n",
              "      <td>vinYE</td>\n",
              "      <td>0</td>\n",
              "    </tr>\n",
              "    <tr>\n",
              "      <th>14115</th>\n",
              "      <td>v</td>\n",
              "      <td>vimAnYa</td>\n",
              "      <td>0</td>\n",
              "    </tr>\n",
              "    <tr>\n",
              "      <th>14116</th>\n",
              "      <td>v</td>\n",
              "      <td>viRayam</td>\n",
              "      <td>0</td>\n",
              "    </tr>\n",
              "    <tr>\n",
              "      <th>14117</th>\n",
              "      <td>v</td>\n",
              "      <td>veVrYum_Ukam</td>\n",
              "      <td>0</td>\n",
              "    </tr>\n",
              "    <tr>\n",
              "      <th>14118</th>\n",
              "      <td>v</td>\n",
              "      <td>hipnYAticam</td>\n",
              "      <td>0</td>\n",
              "    </tr>\n",
              "  </tbody>\n",
              "</table>\n",
              "<p>14119 rows × 3 columns</p>\n",
              "</div>"
            ],
            "text/plain": [
              "      Type          Word  sentiment\n",
              "0        a      akalafka          1\n",
              "1        a      akqwrima          1\n",
              "2        a       aklAnwa          1\n",
              "3        a       akRayZa          1\n",
              "4        a        aKaNda          1\n",
              "...    ...           ...        ...\n",
              "14114    v         vinYE          0\n",
              "14115    v       vimAnYa          0\n",
              "14116    v       viRayam          0\n",
              "14117    v  veVrYum_Ukam          0\n",
              "14118    v   hipnYAticam          0\n",
              "\n",
              "[14119 rows x 3 columns]"
            ]
          },
          "metadata": {
            "tags": []
          },
          "execution_count": 17
        }
      ]
    },
    {
      "cell_type": "code",
      "metadata": {
        "colab_type": "code",
        "id": "vxSa1KyKYP4G",
        "colab": {}
      },
      "source": [
        "d={}\n",
        "string=\"ABCDEFGHIJKLMNOPQRSTUVWXYZabcdefghijklmnopqrstuvwxyz\"\n",
        "for i in range(len(string)):\n",
        "  l=[0 for j in range(len(string))]\n",
        "  l[i]=1\n",
        "  d[string[i]]=np.array(l)"
      ],
      "execution_count": null,
      "outputs": []
    },
    {
      "cell_type": "code",
      "metadata": {
        "colab_type": "code",
        "id": "ernp6apQPHIs",
        "colab": {}
      },
      "source": [
        "maxim=0\n",
        "X=df.Word.values\n",
        "for i in range(len(X)):\n",
        "    l=[]\n",
        "    string=str(X[i])\n",
        "    if len(string)>maxim:\n",
        "      maxim=len(string)\n",
        "    l2=string.split(\"_\")\n",
        "    l=[]\n",
        "    #print(len(string)),print(string)\n",
        "    for k in l2:\n",
        "      for j in range(len(k)):\n",
        "        if k[j]!=\"-\":\n",
        "          try:\n",
        "            l.append(string.index(k[j]))\n",
        "          except:\n",
        "            continue\n",
        "    l=np.array(l)\n",
        "    X[i]=l"
      ],
      "execution_count": null,
      "outputs": []
    },
    {
      "cell_type": "code",
      "metadata": {
        "colab_type": "code",
        "id": "d4zNnDsi3OS-",
        "colab": {}
      },
      "source": [
        ""
      ],
      "execution_count": null,
      "outputs": []
    },
    {
      "cell_type": "code",
      "metadata": {
        "colab_type": "code",
        "id": "OFWb_iUnQZel",
        "colab": {}
      },
      "source": [
        "X_train=tf.keras.preprocessing.sequence.pad_sequences(X,maxlen=52,padding=\"post\")"
      ],
      "execution_count": null,
      "outputs": []
    },
    {
      "cell_type": "code",
      "metadata": {
        "colab_type": "code",
        "id": "La2Vsicq3aMq",
        "colab": {}
      },
      "source": [
        "from sklearn.model_selection import train_test_split\n",
        "X_train, X_train_val, y_train, y_train_val = train_test_split(X_train,df.sentiment,random_state=42,train_size=0.9)"
      ],
      "execution_count": null,
      "outputs": []
    },
    {
      "cell_type": "code",
      "metadata": {
        "colab_type": "code",
        "id": "IIQCMiXpP8Mk",
        "colab": {}
      },
      "source": [
        "embedding_weights=[]\n",
        "for i in d:\n",
        "  embedding_weights.append(d[i])\n",
        "embedding_weights=np.array(embedding_weights)"
      ],
      "execution_count": null,
      "outputs": []
    },
    {
      "cell_type": "code",
      "metadata": {
        "colab_type": "code",
        "id": "ywQFCucFW49S",
        "colab": {
          "base_uri": "https://localhost:8080/",
          "height": 34
        },
        "outputId": "a2a88abe-e056-445f-8cc2-d96cc1b47ac1"
      },
      "source": [
        "embedding_weights.shape\n"
      ],
      "execution_count": null,
      "outputs": [
        {
          "output_type": "execute_result",
          "data": {
            "text/plain": [
              "(52, 52)"
            ]
          },
          "metadata": {
            "tags": []
          },
          "execution_count": 23
        }
      ]
    },
    {
      "cell_type": "code",
      "metadata": {
        "colab_type": "code",
        "id": "3taH5a58Q5CC",
        "colab": {}
      },
      "source": [
        ""
      ],
      "execution_count": null,
      "outputs": []
    },
    {
      "cell_type": "code",
      "metadata": {
        "colab_type": "code",
        "id": "5U1aNRYXcJCn",
        "colab": {}
      },
      "source": [
        "y_test=df_hindi.sentiment"
      ],
      "execution_count": null,
      "outputs": []
    },
    {
      "cell_type": "code",
      "metadata": {
        "colab_type": "code",
        "id": "WRVzD2Z2dda7",
        "colab": {
          "base_uri": "https://localhost:8080/",
          "height": 34
        },
        "outputId": "dc406654-4ff8-4aad-dc02-48e0d2ba6d9d"
      },
      "source": [
        "X_train.shape"
      ],
      "execution_count": null,
      "outputs": [
        {
          "output_type": "execute_result",
          "data": {
            "text/plain": [
              "(12707, 52)"
            ]
          },
          "metadata": {
            "tags": []
          },
          "execution_count": 28
        }
      ]
    },
    {
      "cell_type": "code",
      "metadata": {
        "colab_type": "code",
        "id": "Q9iLOgODcqhD",
        "colab": {
          "base_uri": "https://localhost:8080/",
          "height": 50
        },
        "outputId": "76690275-960f-4277-8fdd-4aad3148eea4"
      },
      "source": [
        "X=df_hindi.Word.values\n",
        "X"
      ],
      "execution_count": null,
      "outputs": [
        {
          "output_type": "execute_result",
          "data": {
            "text/plain": [
              "array(['agrima', 'acUka', 'acCA', ..., 'svAxa', 'halacala', 'havA'],\n",
              "      dtype=object)"
            ]
          },
          "metadata": {
            "tags": []
          },
          "execution_count": 29
        }
      ]
    },
    {
      "cell_type": "code",
      "metadata": {
        "colab_type": "code",
        "id": "Ecz0nDrsdf0E",
        "colab": {}
      },
      "source": [
        "maxim=0\n",
        "for i in range(len(X)):\n",
        "    l=[]\n",
        "    string=str(X[i])\n",
        "    if len(string)>maxim:\n",
        "      maxim=len(string)\n",
        "    l2=string.split(\"_\")\n",
        "    l=[]\n",
        "    #print(len(string)),print(string)\n",
        "    for k in l2:\n",
        "      for j in range(len(k)):\n",
        "        if k[j]!=\"-\":\n",
        "          try:\n",
        "            l.append(string.index(k[j]))\n",
        "          except:\n",
        "            continue\n",
        "    l=np.array(l)\n",
        "    X[i]=l"
      ],
      "execution_count": null,
      "outputs": []
    },
    {
      "cell_type": "code",
      "metadata": {
        "colab_type": "code",
        "id": "JEudsOwtcQST",
        "colab": {}
      },
      "source": [
        "X_test=tf.keras.preprocessing.sequence.pad_sequences(X,maxlen=52,padding=\"post\")\n",
        "X_test, X_test_val, y_test, y_test_val = train_test_split(X_test,y_test,random_state=42,train_size=0.8)\n",
        "#y_test=df_tamil.sentiment.values\n",
        "#y_test=df_hindi.sentiment.values"
      ],
      "execution_count": null,
      "outputs": []
    },
    {
      "cell_type": "code",
      "metadata": {
        "colab_type": "code",
        "id": "x7Z2PE3CcfJ5",
        "colab": {
          "base_uri": "https://localhost:8080/",
          "height": 34
        },
        "outputId": "808a0627-1190-4a91-bc40-bfce90c81f87"
      },
      "source": [
        "X_test.shape"
      ],
      "execution_count": null,
      "outputs": [
        {
          "output_type": "execute_result",
          "data": {
            "text/plain": [
              "(4016, 52)"
            ]
          },
          "metadata": {
            "tags": []
          },
          "execution_count": 32
        }
      ]
    },
    {
      "cell_type": "code",
      "metadata": {
        "colab_type": "code",
        "id": "YN4x4kaUdouo",
        "colab": {
          "base_uri": "https://localhost:8080/",
          "height": 34
        },
        "outputId": "ed7c80da-f9f6-4be8-a075-4994437b0392"
      },
      "source": [
        "y_test.shape"
      ],
      "execution_count": null,
      "outputs": [
        {
          "output_type": "execute_result",
          "data": {
            "text/plain": [
              "(4016,)"
            ]
          },
          "metadata": {
            "tags": []
          },
          "execution_count": 33
        }
      ]
    },
    {
      "cell_type": "code",
      "metadata": {
        "id": "6SP6ypoqDExF",
        "colab_type": "code",
        "colab": {
          "base_uri": "https://localhost:8080/",
          "height": 34
        },
        "outputId": "32e0d66b-4039-4b63-9852-891278a344ba"
      },
      "source": [
        "layers=tf.compat.v1.keras.layers.CuDNNLSTM\n",
        "# Include the epoch in the file name (uses `str.format`)\n",
        "checkpoint_path = \"training_2/cp-{epoch:04d}.ckpt\"\n",
        "checkpoint_dir = os.path.dirname(checkpoint_path)\n",
        "\n",
        "# Create a callback that saves the model's weights every 5 epochs\n",
        "cp_callback = tf.keras.callbacks.ModelCheckpoint(\n",
        "    filepath=checkpoint_path, \n",
        "    verbose=1, \n",
        "    save_weights_only=True,\n",
        "    period=1)"
      ],
      "execution_count": null,
      "outputs": [
        {
          "output_type": "stream",
          "text": [
            "WARNING:tensorflow:`period` argument is deprecated. Please use `save_freq` to specify the frequency in number of batches seen.\n"
          ],
          "name": "stdout"
        }
      ]
    },
    {
      "cell_type": "code",
      "metadata": {
        "id": "ALRM31J2DEy2",
        "colab_type": "code",
        "colab": {}
      },
      "source": [
        "#LSTM\n",
        "model=tf.keras.Sequential()\n",
        "model.add(tf.keras.layers.Embedding(52,52,weights=[embedding_weights]))\n",
        "model.add(tf.compat.v1.keras.layers.CuDNNLSTM(52,return_sequences=True))\n",
        "model.add(tf.keras.layers.Dropout(0.5))\n",
        "model.add(tf.keras.layers.Dense(300))\n",
        "model.add(tf.compat.v1.keras.layers.CuDNNLSTM(52,return_sequences=False))\n",
        "model.add(tf.keras.layers.Dropout(0.5))\n",
        "model.add(tf.keras.layers.Dense(100))\n",
        "model.add(tf.keras.layers.Dense(3,activation='softmax'))"
      ],
      "execution_count": null,
      "outputs": []
    },
    {
      "cell_type": "code",
      "metadata": {
        "id": "5PI2SM85DE2T",
        "colab_type": "code",
        "colab": {}
      },
      "source": [
        "model.compile(loss='sparse_categorical_crossentropy',\n",
        "              optimizer=tf.keras.optimizers.Adam(),\n",
        "              metrics=['accuracy'])"
      ],
      "execution_count": null,
      "outputs": []
    },
    {
      "cell_type": "code",
      "metadata": {
        "id": "zylmEZI1DE4U",
        "colab_type": "code",
        "colab": {}
      },
      "source": [
        "model.save_weights(checkpoint_path.format(epoch=0))"
      ],
      "execution_count": null,
      "outputs": []
    },
    {
      "cell_type": "code",
      "metadata": {
        "id": "bh5DlP2CDE8a",
        "colab_type": "code",
        "colab": {
          "base_uri": "https://localhost:8080/",
          "height": 1000
        },
        "outputId": "d85fd091-9817-4ae2-e066-477539d69192"
      },
      "source": [
        "model.fit(X_train,y_train,epochs=20,validation_data=(X_test_val,y_test_val),callbacks=[cp_callback])"
      ],
      "execution_count": null,
      "outputs": [
        {
          "output_type": "stream",
          "text": [
            "Epoch 1/20\n",
            "398/398 [==============================] - ETA: 0s - loss: 0.9210 - accuracy: 0.4798\n",
            "Epoch 00001: saving model to training_2/cp-0001.ckpt\n",
            "398/398 [==============================] - 11s 28ms/step - loss: 0.9210 - accuracy: 0.4798 - val_loss: 0.9111 - val_accuracy: 0.4458\n",
            "Epoch 2/20\n",
            "397/398 [============================>.] - ETA: 0s - loss: 0.9124 - accuracy: 0.4777\n",
            "Epoch 00002: saving model to training_2/cp-0002.ckpt\n",
            "398/398 [==============================] - 11s 27ms/step - loss: 0.9126 - accuracy: 0.4777 - val_loss: 0.9014 - val_accuracy: 0.4458\n",
            "Epoch 3/20\n",
            "397/398 [============================>.] - ETA: 0s - loss: 0.9105 - accuracy: 0.4813\n",
            "Epoch 00003: saving model to training_2/cp-0003.ckpt\n",
            "398/398 [==============================] - 11s 27ms/step - loss: 0.9105 - accuracy: 0.4814 - val_loss: 0.9023 - val_accuracy: 0.4458\n",
            "Epoch 4/20\n",
            "397/398 [============================>.] - ETA: 0s - loss: 0.9098 - accuracy: 0.4794\n",
            "Epoch 00004: saving model to training_2/cp-0004.ckpt\n",
            "398/398 [==============================] - 11s 27ms/step - loss: 0.9099 - accuracy: 0.4793 - val_loss: 0.9016 - val_accuracy: 0.4458\n",
            "Epoch 5/20\n",
            "397/398 [============================>.] - ETA: 0s - loss: 0.9099 - accuracy: 0.4824\n",
            "Epoch 00005: saving model to training_2/cp-0005.ckpt\n",
            "398/398 [==============================] - 11s 27ms/step - loss: 0.9098 - accuracy: 0.4825 - val_loss: 0.9011 - val_accuracy: 0.4458\n",
            "Epoch 6/20\n",
            "397/398 [============================>.] - ETA: 0s - loss: 0.9095 - accuracy: 0.4796\n",
            "Epoch 00006: saving model to training_2/cp-0006.ckpt\n",
            "398/398 [==============================] - 11s 27ms/step - loss: 0.9095 - accuracy: 0.4795 - val_loss: 0.9008 - val_accuracy: 0.4458\n",
            "Epoch 7/20\n",
            "397/398 [============================>.] - ETA: 0s - loss: 0.9088 - accuracy: 0.4847\n",
            "Epoch 00007: saving model to training_2/cp-0007.ckpt\n",
            "398/398 [==============================] - 11s 27ms/step - loss: 0.9087 - accuracy: 0.4847 - val_loss: 0.9023 - val_accuracy: 0.4458\n",
            "Epoch 8/20\n",
            "397/398 [============================>.] - ETA: 0s - loss: 0.9086 - accuracy: 0.4860\n",
            "Epoch 00008: saving model to training_2/cp-0008.ckpt\n",
            "398/398 [==============================] - 11s 27ms/step - loss: 0.9088 - accuracy: 0.4859 - val_loss: 0.9040 - val_accuracy: 0.4458\n",
            "Epoch 9/20\n",
            "397/398 [============================>.] - ETA: 0s - loss: 0.9088 - accuracy: 0.4847\n",
            "Epoch 00009: saving model to training_2/cp-0009.ckpt\n",
            "398/398 [==============================] - 11s 28ms/step - loss: 0.9088 - accuracy: 0.4847 - val_loss: 0.9039 - val_accuracy: 0.4458\n",
            "Epoch 10/20\n",
            "397/398 [============================>.] - ETA: 0s - loss: 0.9085 - accuracy: 0.4824\n",
            "Epoch 00010: saving model to training_2/cp-0010.ckpt\n",
            "398/398 [==============================] - 11s 27ms/step - loss: 0.9088 - accuracy: 0.4823 - val_loss: 0.9004 - val_accuracy: 0.4458\n",
            "Epoch 11/20\n",
            "397/398 [============================>.] - ETA: 0s - loss: 0.9089 - accuracy: 0.4873\n",
            "Epoch 00011: saving model to training_2/cp-0011.ckpt\n",
            "398/398 [==============================] - 11s 27ms/step - loss: 0.9088 - accuracy: 0.4874 - val_loss: 0.9020 - val_accuracy: 0.4458\n",
            "Epoch 12/20\n",
            "397/398 [============================>.] - ETA: 0s - loss: 0.9081 - accuracy: 0.4839\n",
            "Epoch 00012: saving model to training_2/cp-0012.ckpt\n",
            "398/398 [==============================] - 11s 27ms/step - loss: 0.9082 - accuracy: 0.4839 - val_loss: 0.9008 - val_accuracy: 0.4458\n",
            "Epoch 13/20\n",
            "397/398 [============================>.] - ETA: 0s - loss: 0.9087 - accuracy: 0.4852\n",
            "Epoch 00013: saving model to training_2/cp-0013.ckpt\n",
            "398/398 [==============================] - 11s 27ms/step - loss: 0.9087 - accuracy: 0.4852 - val_loss: 0.9029 - val_accuracy: 0.4458\n",
            "Epoch 14/20\n",
            "398/398 [==============================] - ETA: 0s - loss: 0.9083 - accuracy: 0.4843\n",
            "Epoch 00014: saving model to training_2/cp-0014.ckpt\n",
            "398/398 [==============================] - 11s 27ms/step - loss: 0.9083 - accuracy: 0.4843 - val_loss: 0.9013 - val_accuracy: 0.4458\n",
            "Epoch 15/20\n",
            "398/398 [==============================] - ETA: 0s - loss: 0.9085 - accuracy: 0.4858\n",
            "Epoch 00015: saving model to training_2/cp-0015.ckpt\n",
            "398/398 [==============================] - 11s 27ms/step - loss: 0.9085 - accuracy: 0.4858 - val_loss: 0.9033 - val_accuracy: 0.4458\n",
            "Epoch 16/20\n",
            "398/398 [==============================] - ETA: 0s - loss: 0.9085 - accuracy: 0.4852\n",
            "Epoch 00016: saving model to training_2/cp-0016.ckpt\n",
            "398/398 [==============================] - 11s 27ms/step - loss: 0.9085 - accuracy: 0.4852 - val_loss: 0.9020 - val_accuracy: 0.4458\n",
            "Epoch 17/20\n",
            "397/398 [============================>.] - ETA: 0s - loss: 0.9086 - accuracy: 0.4850\n",
            "Epoch 00017: saving model to training_2/cp-0017.ckpt\n",
            "398/398 [==============================] - 11s 27ms/step - loss: 0.9086 - accuracy: 0.4850 - val_loss: 0.9037 - val_accuracy: 0.4458\n",
            "Epoch 18/20\n",
            "398/398 [==============================] - ETA: 0s - loss: 0.9086 - accuracy: 0.4874\n",
            "Epoch 00018: saving model to training_2/cp-0018.ckpt\n",
            "398/398 [==============================] - 11s 27ms/step - loss: 0.9086 - accuracy: 0.4874 - val_loss: 0.9015 - val_accuracy: 0.4458\n",
            "Epoch 19/20\n",
            "396/398 [============================>.] - ETA: 0s - loss: 0.9081 - accuracy: 0.4851\n",
            "Epoch 00019: saving model to training_2/cp-0019.ckpt\n",
            "398/398 [==============================] - 11s 27ms/step - loss: 0.9083 - accuracy: 0.4852 - val_loss: 0.9029 - val_accuracy: 0.4458\n",
            "Epoch 20/20\n",
            "396/398 [============================>.] - ETA: 0s - loss: 0.9086 - accuracy: 0.4877\n",
            "Epoch 00020: saving model to training_2/cp-0020.ckpt\n",
            "398/398 [==============================] - 11s 27ms/step - loss: 0.9082 - accuracy: 0.4879 - val_loss: 0.9007 - val_accuracy: 0.4458\n"
          ],
          "name": "stdout"
        },
        {
          "output_type": "execute_result",
          "data": {
            "text/plain": [
              "<tensorflow.python.keras.callbacks.History at 0x7f075e9530f0>"
            ]
          },
          "metadata": {
            "tags": []
          },
          "execution_count": 38
        }
      ]
    },
    {
      "cell_type": "code",
      "metadata": {
        "id": "G2Ut8KqKDFA1",
        "colab_type": "code",
        "colab": {
          "base_uri": "https://localhost:8080/",
          "height": 689
        },
        "outputId": "4266811c-a91a-46f4-adcd-15f7e036cf9b"
      },
      "source": [
        "for i in range(1,21):\n",
        "  if i<10:\n",
        "    num=\"0\"+str(i)\n",
        "  else:\n",
        "    num=str(i)\n",
        "  s=\"training_2/cp-00\"+num+\".ckpt\"\n",
        "  model.load_weights(s)\n",
        "  test_loss, test_acc = model.evaluate(X_test,y_test)\n",
        "  print('Test Accuracy: {}'.format(test_acc))"
      ],
      "execution_count": null,
      "outputs": [
        {
          "output_type": "stream",
          "text": [
            "126/126 [==============================] - 1s 10ms/step - loss: 0.9132 - accuracy: 0.4704\n",
            "Test Accuracy: 0.47036853432655334\n",
            "126/126 [==============================] - 1s 10ms/step - loss: 0.9092 - accuracy: 0.4704\n",
            "Test Accuracy: 0.47036853432655334\n",
            "126/126 [==============================] - 1s 10ms/step - loss: 0.9091 - accuracy: 0.4704\n",
            "Test Accuracy: 0.47036853432655334\n",
            "126/126 [==============================] - 1s 10ms/step - loss: 0.9080 - accuracy: 0.4704\n",
            "Test Accuracy: 0.47036853432655334\n",
            "126/126 [==============================] - 1s 10ms/step - loss: 0.9079 - accuracy: 0.4704\n",
            "Test Accuracy: 0.47036853432655334\n",
            "126/126 [==============================] - 1s 10ms/step - loss: 0.9078 - accuracy: 0.4704\n",
            "Test Accuracy: 0.47036853432655334\n",
            "126/126 [==============================] - 1s 10ms/step - loss: 0.9086 - accuracy: 0.4704\n",
            "Test Accuracy: 0.47036853432655334\n",
            "126/126 [==============================] - 1s 10ms/step - loss: 0.9092 - accuracy: 0.4704\n",
            "Test Accuracy: 0.47036853432655334\n",
            "126/126 [==============================] - 1s 10ms/step - loss: 0.9092 - accuracy: 0.4704\n",
            "Test Accuracy: 0.47036853432655334\n",
            "126/126 [==============================] - 1s 10ms/step - loss: 0.9076 - accuracy: 0.4704\n",
            "Test Accuracy: 0.47036853432655334\n",
            "126/126 [==============================] - 1s 10ms/step - loss: 0.9087 - accuracy: 0.4704\n",
            "Test Accuracy: 0.47036853432655334\n",
            "126/126 [==============================] - 1s 10ms/step - loss: 0.9080 - accuracy: 0.4704\n",
            "Test Accuracy: 0.47036853432655334\n",
            "126/126 [==============================] - 1s 10ms/step - loss: 0.9087 - accuracy: 0.4704\n",
            "Test Accuracy: 0.47036853432655334\n",
            "126/126 [==============================] - 1s 10ms/step - loss: 0.9079 - accuracy: 0.4704\n",
            "Test Accuracy: 0.47036853432655334\n",
            "126/126 [==============================] - 1s 10ms/step - loss: 0.9089 - accuracy: 0.4704\n",
            "Test Accuracy: 0.47036853432655334\n",
            "126/126 [==============================] - 1s 10ms/step - loss: 0.9083 - accuracy: 0.4704\n",
            "Test Accuracy: 0.47036853432655334\n",
            "126/126 [==============================] - 1s 10ms/step - loss: 0.9093 - accuracy: 0.4704\n",
            "Test Accuracy: 0.47036853432655334\n",
            "126/126 [==============================] - 1s 10ms/step - loss: 0.9080 - accuracy: 0.4704\n",
            "Test Accuracy: 0.47036853432655334\n",
            "126/126 [==============================] - 1s 10ms/step - loss: 0.9088 - accuracy: 0.4704\n",
            "Test Accuracy: 0.47036853432655334\n",
            "126/126 [==============================] - 1s 10ms/step - loss: 0.9077 - accuracy: 0.4704\n",
            "Test Accuracy: 0.47036853432655334\n"
          ],
          "name": "stdout"
        }
      ]
    },
    {
      "cell_type": "code",
      "metadata": {
        "id": "fksnrD8cDFEE",
        "colab_type": "code",
        "colab": {}
      },
      "source": [
        "#using CNN\n",
        "model=tf.keras.Sequential()\n",
        "model.add(tf.keras.layers.Embedding(52,52,weights=[embedding_weights]))\n",
        "model.add(tf.keras.layers.Conv1D(350,4))\n",
        "model.add(tf.keras.layers.BatchNormalization())\n",
        "model.add(tf.keras.layers.GlobalMaxPooling1D())\n",
        "model.add(tf.keras.layers.Dense(350))\n",
        "model.add(tf.keras.layers.Dropout(0.5))\n",
        "model.add(tf.keras.layers.Dense(3,activation='softmax'))"
      ],
      "execution_count": null,
      "outputs": []
    },
    {
      "cell_type": "code",
      "metadata": {
        "id": "-wnIyiehDFGD",
        "colab_type": "code",
        "colab": {}
      },
      "source": [
        "model.compile(loss='sparse_categorical_crossentropy',\n",
        "              optimizer=tf.keras.optimizers.Adam(),\n",
        "              metrics=['accuracy'])"
      ],
      "execution_count": null,
      "outputs": []
    },
    {
      "cell_type": "code",
      "metadata": {
        "id": "TIKBU26NDFKX",
        "colab_type": "code",
        "colab": {}
      },
      "source": [
        "model.save_weights(checkpoint_path.format(epoch=0))"
      ],
      "execution_count": null,
      "outputs": []
    },
    {
      "cell_type": "code",
      "metadata": {
        "id": "6tdr3ayADFPR",
        "colab_type": "code",
        "colab": {
          "base_uri": "https://localhost:8080/",
          "height": 1000
        },
        "outputId": "617776e3-aac4-4d3f-f844-08046f6c6345"
      },
      "source": [
        "history=model.fit(X_train,y_train,epochs=20,validation_data=(X_test_val,y_test_val), callbacks=[cp_callback])"
      ],
      "execution_count": null,
      "outputs": [
        {
          "output_type": "stream",
          "text": [
            "Epoch 1/20\n",
            "398/398 [==============================] - ETA: 0s - loss: 1.4486 - accuracy: 0.4659\n",
            "Epoch 00001: saving model to training_2/cp-0001.ckpt\n",
            "398/398 [==============================] - 3s 8ms/step - loss: 1.4486 - accuracy: 0.4659 - val_loss: 1.0323 - val_accuracy: 0.4458\n",
            "Epoch 2/20\n",
            "392/398 [============================>.] - ETA: 0s - loss: 0.9644 - accuracy: 0.4803\n",
            "Epoch 00002: saving model to training_2/cp-0002.ckpt\n",
            "398/398 [==============================] - 3s 8ms/step - loss: 0.9626 - accuracy: 0.4808 - val_loss: 0.9352 - val_accuracy: 0.4468\n",
            "Epoch 3/20\n",
            "393/398 [============================>.] - ETA: 0s - loss: 0.9401 - accuracy: 0.4880\n",
            "Epoch 00003: saving model to training_2/cp-0003.ckpt\n",
            "398/398 [==============================] - 3s 8ms/step - loss: 0.9404 - accuracy: 0.4875 - val_loss: 0.9064 - val_accuracy: 0.4836\n",
            "Epoch 4/20\n",
            "393/398 [============================>.] - ETA: 0s - loss: 0.9219 - accuracy: 0.4958\n",
            "Epoch 00004: saving model to training_2/cp-0004.ckpt\n",
            "398/398 [==============================] - 3s 8ms/step - loss: 0.9222 - accuracy: 0.4958 - val_loss: 0.9419 - val_accuracy: 0.4677\n",
            "Epoch 5/20\n",
            "393/398 [============================>.] - ETA: 0s - loss: 0.9124 - accuracy: 0.4985\n",
            "Epoch 00005: saving model to training_2/cp-0005.ckpt\n",
            "398/398 [==============================] - 3s 8ms/step - loss: 0.9125 - accuracy: 0.4989 - val_loss: 0.9046 - val_accuracy: 0.5055\n",
            "Epoch 6/20\n",
            "392/398 [============================>.] - ETA: 0s - loss: 0.9048 - accuracy: 0.5049\n",
            "Epoch 00006: saving model to training_2/cp-0006.ckpt\n",
            "398/398 [==============================] - 3s 8ms/step - loss: 0.9046 - accuracy: 0.5055 - val_loss: 0.9138 - val_accuracy: 0.5005\n",
            "Epoch 7/20\n",
            "398/398 [==============================] - ETA: 0s - loss: 0.9041 - accuracy: 0.5074\n",
            "Epoch 00007: saving model to training_2/cp-0007.ckpt\n",
            "398/398 [==============================] - 3s 9ms/step - loss: 0.9041 - accuracy: 0.5074 - val_loss: 0.8853 - val_accuracy: 0.4955\n",
            "Epoch 8/20\n",
            "392/398 [============================>.] - ETA: 0s - loss: 0.8999 - accuracy: 0.5119\n",
            "Epoch 00008: saving model to training_2/cp-0008.ckpt\n",
            "398/398 [==============================] - 3s 8ms/step - loss: 0.8996 - accuracy: 0.5116 - val_loss: 0.9334 - val_accuracy: 0.4796\n",
            "Epoch 9/20\n",
            "395/398 [============================>.] - ETA: 0s - loss: 0.8965 - accuracy: 0.5130\n",
            "Epoch 00009: saving model to training_2/cp-0009.ckpt\n",
            "398/398 [==============================] - 3s 8ms/step - loss: 0.8975 - accuracy: 0.5126 - val_loss: 0.9047 - val_accuracy: 0.5055\n",
            "Epoch 10/20\n",
            "394/398 [============================>.] - ETA: 0s - loss: 0.8996 - accuracy: 0.5174\n",
            "Epoch 00010: saving model to training_2/cp-0010.ckpt\n",
            "398/398 [==============================] - 3s 8ms/step - loss: 0.8992 - accuracy: 0.5180 - val_loss: 0.9759 - val_accuracy: 0.4527\n",
            "Epoch 11/20\n",
            "396/398 [============================>.] - ETA: 0s - loss: 0.8968 - accuracy: 0.5199\n",
            "Epoch 00011: saving model to training_2/cp-0011.ckpt\n",
            "398/398 [==============================] - 3s 8ms/step - loss: 0.8967 - accuracy: 0.5198 - val_loss: 0.9523 - val_accuracy: 0.4607\n",
            "Epoch 12/20\n",
            "396/398 [============================>.] - ETA: 0s - loss: 0.8881 - accuracy: 0.5289\n",
            "Epoch 00012: saving model to training_2/cp-0012.ckpt\n",
            "398/398 [==============================] - 3s 8ms/step - loss: 0.8878 - accuracy: 0.5292 - val_loss: 0.9195 - val_accuracy: 0.4866\n",
            "Epoch 13/20\n",
            "393/398 [============================>.] - ETA: 0s - loss: 0.8843 - accuracy: 0.5293\n",
            "Epoch 00013: saving model to training_2/cp-0013.ckpt\n",
            "398/398 [==============================] - 3s 8ms/step - loss: 0.8846 - accuracy: 0.5290 - val_loss: 0.8988 - val_accuracy: 0.5025\n",
            "Epoch 14/20\n",
            "393/398 [============================>.] - ETA: 0s - loss: 0.8784 - accuracy: 0.5336\n",
            "Epoch 00014: saving model to training_2/cp-0014.ckpt\n",
            "398/398 [==============================] - 3s 8ms/step - loss: 0.8779 - accuracy: 0.5337 - val_loss: 0.9480 - val_accuracy: 0.4726\n",
            "Epoch 15/20\n",
            "397/398 [============================>.] - ETA: 0s - loss: 0.8722 - accuracy: 0.5427\n",
            "Epoch 00015: saving model to training_2/cp-0015.ckpt\n",
            "398/398 [==============================] - 3s 8ms/step - loss: 0.8722 - accuracy: 0.5428 - val_loss: 0.9081 - val_accuracy: 0.5015\n",
            "Epoch 16/20\n",
            "392/398 [============================>.] - ETA: 0s - loss: 0.8650 - accuracy: 0.5443\n",
            "Epoch 00016: saving model to training_2/cp-0016.ckpt\n",
            "398/398 [==============================] - 3s 8ms/step - loss: 0.8652 - accuracy: 0.5444 - val_loss: 0.9048 - val_accuracy: 0.5085\n",
            "Epoch 17/20\n",
            "392/398 [============================>.] - ETA: 0s - loss: 0.8598 - accuracy: 0.5483\n",
            "Epoch 00017: saving model to training_2/cp-0017.ckpt\n",
            "398/398 [==============================] - 3s 8ms/step - loss: 0.8595 - accuracy: 0.5484 - val_loss: 0.9041 - val_accuracy: 0.5025\n",
            "Epoch 18/20\n",
            "395/398 [============================>.] - ETA: 0s - loss: 0.8529 - accuracy: 0.5554\n",
            "Epoch 00018: saving model to training_2/cp-0018.ckpt\n",
            "398/398 [==============================] - 3s 8ms/step - loss: 0.8534 - accuracy: 0.5551 - val_loss: 0.9232 - val_accuracy: 0.4846\n",
            "Epoch 19/20\n",
            "398/398 [==============================] - ETA: 0s - loss: 0.8477 - accuracy: 0.5540\n",
            "Epoch 00019: saving model to training_2/cp-0019.ckpt\n",
            "398/398 [==============================] - 3s 8ms/step - loss: 0.8477 - accuracy: 0.5540 - val_loss: 0.9212 - val_accuracy: 0.5224\n",
            "Epoch 20/20\n",
            "396/398 [============================>.] - ETA: 0s - loss: 0.8442 - accuracy: 0.5649\n",
            "Epoch 00020: saving model to training_2/cp-0020.ckpt\n",
            "398/398 [==============================] - 3s 8ms/step - loss: 0.8441 - accuracy: 0.5648 - val_loss: 0.9223 - val_accuracy: 0.5035\n"
          ],
          "name": "stdout"
        }
      ]
    },
    {
      "cell_type": "code",
      "metadata": {
        "id": "rYV_ut62DFS1",
        "colab_type": "code",
        "colab": {
          "base_uri": "https://localhost:8080/",
          "height": 689
        },
        "outputId": "08d01cf0-a838-4eba-a006-bce982c6ab7a"
      },
      "source": [
        "for i in range(1,21):\n",
        "  if i<10:\n",
        "    num=\"0\"+str(i)\n",
        "  else:\n",
        "    num=str(i)\n",
        "  s=\"training_2/cp-00\"+num+\".ckpt\"\n",
        "  model.load_weights(s)\n",
        "  test_loss, test_acc = model.evaluate(X_test,y_test)\n",
        "  print('Test Accuracy: {}'.format(test_acc))"
      ],
      "execution_count": null,
      "outputs": [
        {
          "output_type": "stream",
          "text": [
            "126/126 [==============================] - 0s 4ms/step - loss: 1.0238 - accuracy: 0.4704\n",
            "Test Accuracy: 0.47036853432655334\n",
            "126/126 [==============================] - 0s 4ms/step - loss: 0.9302 - accuracy: 0.4716\n",
            "Test Accuracy: 0.4716135561466217\n",
            "126/126 [==============================] - 0s 4ms/step - loss: 0.9099 - accuracy: 0.4734\n",
            "Test Accuracy: 0.47335657477378845\n",
            "126/126 [==============================] - 0s 4ms/step - loss: 0.9473 - accuracy: 0.4818\n",
            "Test Accuracy: 0.4818226993083954\n",
            "126/126 [==============================] - 0s 4ms/step - loss: 0.9098 - accuracy: 0.4953\n",
            "Test Accuracy: 0.49526891112327576\n",
            "126/126 [==============================] - 0s 4ms/step - loss: 0.9314 - accuracy: 0.4818\n",
            "Test Accuracy: 0.4818226993083954\n",
            "126/126 [==============================] - 0s 4ms/step - loss: 0.9035 - accuracy: 0.4778\n",
            "Test Accuracy: 0.4778386354446411\n",
            "126/126 [==============================] - 0s 4ms/step - loss: 0.9326 - accuracy: 0.4836\n",
            "Test Accuracy: 0.4835657477378845\n",
            "126/126 [==============================] - 0s 4ms/step - loss: 0.9128 - accuracy: 0.4995\n",
            "Test Accuracy: 0.4995020031929016\n",
            "126/126 [==============================] - 0s 3ms/step - loss: 0.9704 - accuracy: 0.4746\n",
            "Test Accuracy: 0.4746015965938568\n",
            "126/126 [==============================] - 0s 4ms/step - loss: 0.9506 - accuracy: 0.4724\n",
            "Test Accuracy: 0.4723605513572693\n",
            "126/126 [==============================] - 0s 4ms/step - loss: 0.9225 - accuracy: 0.4863\n",
            "Test Accuracy: 0.48630478978157043\n",
            "126/126 [==============================] - 0s 4ms/step - loss: 0.9144 - accuracy: 0.4990\n",
            "Test Accuracy: 0.49900397658348083\n",
            "126/126 [==============================] - 0s 4ms/step - loss: 0.9593 - accuracy: 0.4863\n",
            "Test Accuracy: 0.48630478978157043\n",
            "126/126 [==============================] - 0s 4ms/step - loss: 0.9392 - accuracy: 0.4788\n",
            "Test Accuracy: 0.4788346588611603\n",
            "126/126 [==============================] - 0s 4ms/step - loss: 0.9200 - accuracy: 0.4890\n",
            "Test Accuracy: 0.48904383182525635\n",
            "126/126 [==============================] - 0s 4ms/step - loss: 0.9287 - accuracy: 0.4823\n",
            "Test Accuracy: 0.48232072591781616\n",
            "126/126 [==============================] - 0s 4ms/step - loss: 0.9370 - accuracy: 0.4833\n",
            "Test Accuracy: 0.48331671953201294\n",
            "126/126 [==============================] - 0s 4ms/step - loss: 0.9466 - accuracy: 0.4875\n",
            "Test Accuracy: 0.4875498116016388\n",
            "126/126 [==============================] - 0s 4ms/step - loss: 0.9377 - accuracy: 0.4965\n",
            "Test Accuracy: 0.4965139329433441\n"
          ],
          "name": "stdout"
        }
      ]
    },
    {
      "cell_type": "code",
      "metadata": {
        "id": "gtOhPTU7DFVZ",
        "colab_type": "code",
        "colab": {}
      },
      "source": [
        "#using  birectional LSTM\n",
        "model = tf.keras.Sequential()\n",
        "model.add(tf.keras.layers.Embedding(52,52,weights=[embedding_weights]))\n",
        "model.add(tf.keras.layers.Bidirectional(tf.compat.v1.keras.layers.CuDNNLSTM(52)))\n",
        "model.add(tf.keras.layers.Dropout(0.1))\n",
        "model.add(tf.keras.layers.Dense(350))\n",
        "model.add(tf.keras.layers.Dense(3,activation='softmax'))"
      ],
      "execution_count": null,
      "outputs": []
    },
    {
      "cell_type": "code",
      "metadata": {
        "id": "AqmVEDp5DFZl",
        "colab_type": "code",
        "colab": {}
      },
      "source": [
        "model.compile(loss='sparse_categorical_crossentropy',\n",
        "              optimizer=tf.keras.optimizers.Adam(),\n",
        "              metrics=['accuracy'])"
      ],
      "execution_count": null,
      "outputs": []
    },
    {
      "cell_type": "code",
      "metadata": {
        "id": "0X-llVqeDFdD",
        "colab_type": "code",
        "colab": {}
      },
      "source": [
        "model.save_weights(checkpoint_path.format(epoch=0))"
      ],
      "execution_count": null,
      "outputs": []
    },
    {
      "cell_type": "code",
      "metadata": {
        "id": "WXVPvGXMDFfm",
        "colab_type": "code",
        "colab": {
          "base_uri": "https://localhost:8080/",
          "height": 1000
        },
        "outputId": "c0e155b5-ac3e-4993-b17b-ea8730a5670b"
      },
      "source": [
        "model.fit(X_train,y_train,epochs=20,validation_data=(X_test_val,y_test_val),callbacks=[cp_callback])"
      ],
      "execution_count": null,
      "outputs": [
        {
          "output_type": "stream",
          "text": [
            "Epoch 1/20\n",
            "398/398 [==============================] - ETA: 0s - loss: 0.9134 - accuracy: 0.4778\n",
            "Epoch 00001: saving model to training_2/cp-0001.ckpt\n",
            "398/398 [==============================] - 10s 25ms/step - loss: 0.9134 - accuracy: 0.4778 - val_loss: 0.9006 - val_accuracy: 0.4458\n",
            "Epoch 2/20\n",
            "397/398 [============================>.] - ETA: 0s - loss: 0.9090 - accuracy: 0.4814\n",
            "Epoch 00002: saving model to training_2/cp-0002.ckpt\n",
            "398/398 [==============================] - 10s 24ms/step - loss: 0.9090 - accuracy: 0.4814 - val_loss: 0.8922 - val_accuracy: 0.5075\n",
            "Epoch 3/20\n",
            "398/398 [==============================] - ETA: 0s - loss: 0.9059 - accuracy: 0.4933\n",
            "Epoch 00003: saving model to training_2/cp-0003.ckpt\n",
            "398/398 [==============================] - 10s 24ms/step - loss: 0.9059 - accuracy: 0.4933 - val_loss: 0.9045 - val_accuracy: 0.4617\n",
            "Epoch 4/20\n",
            "396/398 [============================>.] - ETA: 0s - loss: 0.9060 - accuracy: 0.4905\n",
            "Epoch 00004: saving model to training_2/cp-0004.ckpt\n",
            "398/398 [==============================] - 10s 25ms/step - loss: 0.9059 - accuracy: 0.4908 - val_loss: 0.9030 - val_accuracy: 0.4786\n",
            "Epoch 5/20\n",
            "396/398 [============================>.] - ETA: 0s - loss: 0.9045 - accuracy: 0.4953\n",
            "Epoch 00005: saving model to training_2/cp-0005.ckpt\n",
            "398/398 [==============================] - 10s 24ms/step - loss: 0.9045 - accuracy: 0.4956 - val_loss: 0.8970 - val_accuracy: 0.4955\n",
            "Epoch 6/20\n",
            "396/398 [============================>.] - ETA: 0s - loss: 0.9044 - accuracy: 0.4916\n",
            "Epoch 00006: saving model to training_2/cp-0006.ckpt\n",
            "398/398 [==============================] - 10s 24ms/step - loss: 0.9043 - accuracy: 0.4915 - val_loss: 0.9034 - val_accuracy: 0.4567\n",
            "Epoch 7/20\n",
            "397/398 [============================>.] - ETA: 0s - loss: 0.9043 - accuracy: 0.4958\n",
            "Epoch 00007: saving model to training_2/cp-0007.ckpt\n",
            "398/398 [==============================] - 10s 24ms/step - loss: 0.9043 - accuracy: 0.4957 - val_loss: 0.8949 - val_accuracy: 0.4965\n",
            "Epoch 8/20\n",
            "397/398 [============================>.] - ETA: 0s - loss: 0.9034 - accuracy: 0.4967\n",
            "Epoch 00008: saving model to training_2/cp-0008.ckpt\n",
            "398/398 [==============================] - 10s 24ms/step - loss: 0.9033 - accuracy: 0.4967 - val_loss: 0.9068 - val_accuracy: 0.4796\n",
            "Epoch 9/20\n",
            "397/398 [============================>.] - ETA: 0s - loss: 0.9027 - accuracy: 0.4991\n",
            "Epoch 00009: saving model to training_2/cp-0009.ckpt\n",
            "398/398 [==============================] - 10s 24ms/step - loss: 0.9027 - accuracy: 0.4992 - val_loss: 0.9051 - val_accuracy: 0.4677\n",
            "Epoch 10/20\n",
            "397/398 [============================>.] - ETA: 0s - loss: 0.9028 - accuracy: 0.4985\n",
            "Epoch 00010: saving model to training_2/cp-0010.ckpt\n",
            "398/398 [==============================] - 10s 24ms/step - loss: 0.9028 - accuracy: 0.4985 - val_loss: 0.8977 - val_accuracy: 0.4896\n",
            "Epoch 11/20\n",
            "398/398 [==============================] - ETA: 0s - loss: 0.9015 - accuracy: 0.5010\n",
            "Epoch 00011: saving model to training_2/cp-0011.ckpt\n",
            "398/398 [==============================] - 10s 24ms/step - loss: 0.9015 - accuracy: 0.5010 - val_loss: 0.8998 - val_accuracy: 0.4826\n",
            "Epoch 12/20\n",
            "397/398 [============================>.] - ETA: 0s - loss: 0.9015 - accuracy: 0.4998\n",
            "Epoch 00012: saving model to training_2/cp-0012.ckpt\n",
            "398/398 [==============================] - 10s 24ms/step - loss: 0.9014 - accuracy: 0.4998 - val_loss: 0.9009 - val_accuracy: 0.4776\n",
            "Epoch 13/20\n",
            "396/398 [============================>.] - ETA: 0s - loss: 0.9013 - accuracy: 0.5028\n",
            "Epoch 00013: saving model to training_2/cp-0013.ckpt\n",
            "398/398 [==============================] - 10s 24ms/step - loss: 0.9013 - accuracy: 0.5026 - val_loss: 0.9032 - val_accuracy: 0.4796\n",
            "Epoch 14/20\n",
            "397/398 [============================>.] - ETA: 0s - loss: 0.9009 - accuracy: 0.4987\n",
            "Epoch 00014: saving model to training_2/cp-0014.ckpt\n",
            "398/398 [==============================] - 10s 24ms/step - loss: 0.9008 - accuracy: 0.4987 - val_loss: 0.9075 - val_accuracy: 0.4726\n",
            "Epoch 15/20\n",
            "398/398 [==============================] - ETA: 0s - loss: 0.9000 - accuracy: 0.5013\n",
            "Epoch 00015: saving model to training_2/cp-0015.ckpt\n",
            "398/398 [==============================] - 10s 24ms/step - loss: 0.9000 - accuracy: 0.5013 - val_loss: 0.8984 - val_accuracy: 0.4816\n",
            "Epoch 16/20\n",
            "397/398 [============================>.] - ETA: 0s - loss: 0.8984 - accuracy: 0.5066\n",
            "Epoch 00016: saving model to training_2/cp-0016.ckpt\n",
            "398/398 [==============================] - 10s 24ms/step - loss: 0.8983 - accuracy: 0.5066 - val_loss: 0.8983 - val_accuracy: 0.4846\n",
            "Epoch 17/20\n",
            "396/398 [============================>.] - ETA: 0s - loss: 0.8984 - accuracy: 0.5029\n",
            "Epoch 00017: saving model to training_2/cp-0017.ckpt\n",
            "398/398 [==============================] - 10s 24ms/step - loss: 0.8983 - accuracy: 0.5031 - val_loss: 0.8970 - val_accuracy: 0.4856\n",
            "Epoch 18/20\n",
            "397/398 [============================>.] - ETA: 0s - loss: 0.8966 - accuracy: 0.5053\n",
            "Epoch 00018: saving model to training_2/cp-0018.ckpt\n",
            "398/398 [==============================] - 10s 24ms/step - loss: 0.8965 - accuracy: 0.5053 - val_loss: 0.9015 - val_accuracy: 0.4866\n",
            "Epoch 19/20\n",
            "396/398 [============================>.] - ETA: 0s - loss: 0.8950 - accuracy: 0.5055\n",
            "Epoch 00019: saving model to training_2/cp-0019.ckpt\n",
            "398/398 [==============================] - 10s 24ms/step - loss: 0.8953 - accuracy: 0.5055 - val_loss: 0.8945 - val_accuracy: 0.4925\n",
            "Epoch 20/20\n",
            "396/398 [============================>.] - ETA: 0s - loss: 0.8939 - accuracy: 0.5047\n",
            "Epoch 00020: saving model to training_2/cp-0020.ckpt\n",
            "398/398 [==============================] - 10s 24ms/step - loss: 0.8940 - accuracy: 0.5050 - val_loss: 0.9008 - val_accuracy: 0.4876\n"
          ],
          "name": "stdout"
        },
        {
          "output_type": "execute_result",
          "data": {
            "text/plain": [
              "<tensorflow.python.keras.callbacks.History at 0x7f075d4bf160>"
            ]
          },
          "metadata": {
            "tags": []
          },
          "execution_count": 48
        }
      ]
    },
    {
      "cell_type": "code",
      "metadata": {
        "id": "cZy4ivx-DFj0",
        "colab_type": "code",
        "colab": {
          "base_uri": "https://localhost:8080/",
          "height": 689
        },
        "outputId": "75ac6339-09ba-42cb-f663-9fae319312fa"
      },
      "source": [
        "for i in range(1,21):\n",
        "  if i<10:\n",
        "    num=\"0\"+str(i)\n",
        "  else:\n",
        "    num=str(i)\n",
        "  s=\"training_2/cp-00\"+num+\".ckpt\"\n",
        "  model.load_weights(s)\n",
        "  test_loss, test_acc = model.evaluate(X_test,y_test)\n",
        "  print('Test Accuracy: {}'.format(test_acc))"
      ],
      "execution_count": null,
      "outputs": [
        {
          "output_type": "stream",
          "text": [
            "126/126 [==============================] - 1s 10ms/step - loss: 0.9056 - accuracy: 0.4699\n",
            "Test Accuracy: 0.46987050771713257\n",
            "126/126 [==============================] - 1s 10ms/step - loss: 0.9033 - accuracy: 0.4978\n",
            "Test Accuracy: 0.4977589547634125\n",
            "126/126 [==============================] - 1s 10ms/step - loss: 0.9102 - accuracy: 0.4803\n",
            "Test Accuracy: 0.48032867908477783\n",
            "126/126 [==============================] - 1s 10ms/step - loss: 0.9070 - accuracy: 0.4856\n",
            "Test Accuracy: 0.48555776476860046\n",
            "126/126 [==============================] - 1s 10ms/step - loss: 0.9055 - accuracy: 0.4955\n",
            "Test Accuracy: 0.49551793932914734\n",
            "126/126 [==============================] - 1s 10ms/step - loss: 0.9072 - accuracy: 0.4773\n",
            "Test Accuracy: 0.4773406386375427\n",
            "126/126 [==============================] - 1s 10ms/step - loss: 0.9036 - accuracy: 0.4940\n",
            "Test Accuracy: 0.4940239191055298\n",
            "126/126 [==============================] - 1s 10ms/step - loss: 0.9089 - accuracy: 0.4838\n",
            "Test Accuracy: 0.4838147461414337\n",
            "126/126 [==============================] - 1s 10ms/step - loss: 0.9087 - accuracy: 0.4811\n",
            "Test Accuracy: 0.4810757040977478\n",
            "126/126 [==============================] - 1s 10ms/step - loss: 0.9066 - accuracy: 0.4933\n",
            "Test Accuracy: 0.4932768940925598\n",
            "126/126 [==============================] - 1s 10ms/step - loss: 0.9081 - accuracy: 0.4823\n",
            "Test Accuracy: 0.48232072591781616\n",
            "126/126 [==============================] - 1s 10ms/step - loss: 0.9082 - accuracy: 0.4798\n",
            "Test Accuracy: 0.47983068227767944\n",
            "126/126 [==============================] - 1s 10ms/step - loss: 0.9103 - accuracy: 0.4811\n",
            "Test Accuracy: 0.4810757040977478\n",
            "126/126 [==============================] - 1s 10ms/step - loss: 0.9123 - accuracy: 0.4816\n",
            "Test Accuracy: 0.4815737009048462\n",
            "126/126 [==============================] - 1s 10ms/step - loss: 0.9060 - accuracy: 0.4913\n",
            "Test Accuracy: 0.4912848472595215\n",
            "126/126 [==============================] - 1s 10ms/step - loss: 0.9060 - accuracy: 0.4841\n",
            "Test Accuracy: 0.4840637445449829\n",
            "126/126 [==============================] - 1s 9ms/step - loss: 0.9065 - accuracy: 0.4903\n",
            "Test Accuracy: 0.4902888536453247\n",
            "126/126 [==============================] - 1s 10ms/step - loss: 0.9089 - accuracy: 0.4838\n",
            "Test Accuracy: 0.4838147461414337\n",
            "126/126 [==============================] - 1s 10ms/step - loss: 0.9043 - accuracy: 0.4878\n",
            "Test Accuracy: 0.487798810005188\n",
            "126/126 [==============================] - 1s 10ms/step - loss: 0.9079 - accuracy: 0.4861\n",
            "Test Accuracy: 0.48605579137802124\n"
          ],
          "name": "stdout"
        }
      ]
    },
    {
      "cell_type": "code",
      "metadata": {
        "id": "F-e6YJdSDFo4",
        "colab_type": "code",
        "colab": {}
      },
      "source": [
        "model.load_weights(\"training_2/cp-0004.ckpt\")\n",
        "l=model.predict_classes(X_test)\n",
        "test_loss, test_acc = model.evaluate(X_test,y_test)\n",
        "print('Test Loss: {}'.format(test_loss))\n",
        "print('Test Accuracy: {}'.format(test_acc))\n",
        "l2=[]\n",
        "for i in l:\n",
        "  if i not in l2:\n",
        "    l2.append(i)\n",
        "    print(i)"
      ],
      "execution_count": null,
      "outputs": []
    },
    {
      "cell_type": "code",
      "metadata": {
        "id": "taG7XxmrDFsn",
        "colab_type": "code",
        "colab": {}
      },
      "source": [
        "#using CNN-GRU\n",
        "model = tf.keras.Sequential()\n",
        "model.add(tf.keras.layers.Embedding(52,52,weights=[embedding_weights]))\n",
        "model.add(tf.keras.layers.Conv1D(52, 3, activation='relu'))\n",
        "model.add(tf.keras.layers.SpatialDropout1D(0.2))\n",
        "model.add(tf.keras.layers.MaxPooling1D(4))\n",
        "model.add(tf.compat.v1.keras.layers.CuDNNGRU(64))\n",
        "model.add(tf.keras.layers.Dropout(0.1))\n",
        "model.add(tf.keras.layers.Dense(3, activation='softmax'))"
      ],
      "execution_count": null,
      "outputs": []
    },
    {
      "cell_type": "code",
      "metadata": {
        "id": "gACWz36vDFul",
        "colab_type": "code",
        "colab": {}
      },
      "source": [
        "model.compile(loss='sparse_categorical_crossentropy',\n",
        "              optimizer='Adam',\n",
        "              metrics=['accuracy'])"
      ],
      "execution_count": null,
      "outputs": []
    },
    {
      "cell_type": "code",
      "metadata": {
        "id": "_plIB2UpDFxl",
        "colab_type": "code",
        "colab": {}
      },
      "source": [
        "model.save_weights(checkpoint_path.format(epoch=0))"
      ],
      "execution_count": null,
      "outputs": []
    },
    {
      "cell_type": "code",
      "metadata": {
        "id": "LqL0PJlWDF2I",
        "colab_type": "code",
        "colab": {
          "base_uri": "https://localhost:8080/",
          "height": 1000
        },
        "outputId": "fe398f34-b4ae-4ac4-9920-64633b21b29e"
      },
      "source": [
        "model.fit(X_train,y_train,epochs=20,validation_data=(X_train_val,y_train_val),callbacks=[cp_callback])"
      ],
      "execution_count": null,
      "outputs": [
        {
          "output_type": "stream",
          "text": [
            "Epoch 1/20\n",
            "397/398 [============================>.] - ETA: 0s - loss: 0.9170 - accuracy: 0.4776\n",
            "Epoch 00001: saving model to training_2/cp-0001.ckpt\n",
            "398/398 [==============================] - 3s 9ms/step - loss: 0.9169 - accuracy: 0.4775 - val_loss: 0.9159 - val_accuracy: 0.4958\n",
            "Epoch 2/20\n",
            "392/398 [============================>.] - ETA: 0s - loss: 0.9095 - accuracy: 0.4719\n",
            "Epoch 00002: saving model to training_2/cp-0002.ckpt\n",
            "398/398 [==============================] - 3s 8ms/step - loss: 0.9099 - accuracy: 0.4719 - val_loss: 0.9127 - val_accuracy: 0.4958\n",
            "Epoch 3/20\n",
            "398/398 [==============================] - ETA: 0s - loss: 0.9073 - accuracy: 0.4805\n",
            "Epoch 00003: saving model to training_2/cp-0003.ckpt\n",
            "398/398 [==============================] - 3s 8ms/step - loss: 0.9073 - accuracy: 0.4805 - val_loss: 0.9136 - val_accuracy: 0.4958\n",
            "Epoch 4/20\n",
            "392/398 [============================>.] - ETA: 0s - loss: 0.9060 - accuracy: 0.4864\n",
            "Epoch 00004: saving model to training_2/cp-0004.ckpt\n",
            "398/398 [==============================] - 3s 8ms/step - loss: 0.9058 - accuracy: 0.4863 - val_loss: 0.9124 - val_accuracy: 0.4958\n",
            "Epoch 5/20\n",
            "392/398 [============================>.] - ETA: 0s - loss: 0.9037 - accuracy: 0.4833\n",
            "Epoch 00005: saving model to training_2/cp-0005.ckpt\n",
            "398/398 [==============================] - 3s 8ms/step - loss: 0.9044 - accuracy: 0.4823 - val_loss: 0.9150 - val_accuracy: 0.4880\n",
            "Epoch 6/20\n",
            "395/398 [============================>.] - ETA: 0s - loss: 0.9046 - accuracy: 0.4930\n",
            "Epoch 00006: saving model to training_2/cp-0006.ckpt\n",
            "398/398 [==============================] - 3s 8ms/step - loss: 0.9040 - accuracy: 0.4931 - val_loss: 0.9150 - val_accuracy: 0.5007\n",
            "Epoch 7/20\n",
            "395/398 [============================>.] - ETA: 0s - loss: 0.9015 - accuracy: 0.4989\n",
            "Epoch 00007: saving model to training_2/cp-0007.ckpt\n",
            "398/398 [==============================] - 3s 8ms/step - loss: 0.9017 - accuracy: 0.4992 - val_loss: 0.9130 - val_accuracy: 0.4929\n",
            "Epoch 8/20\n",
            "397/398 [============================>.] - ETA: 0s - loss: 0.8990 - accuracy: 0.5035\n",
            "Epoch 00008: saving model to training_2/cp-0008.ckpt\n",
            "398/398 [==============================] - 3s 8ms/step - loss: 0.8990 - accuracy: 0.5036 - val_loss: 0.9097 - val_accuracy: 0.4993\n",
            "Epoch 9/20\n",
            "397/398 [============================>.] - ETA: 0s - loss: 0.8980 - accuracy: 0.5009\n",
            "Epoch 00009: saving model to training_2/cp-0009.ckpt\n",
            "398/398 [==============================] - 3s 8ms/step - loss: 0.8982 - accuracy: 0.5009 - val_loss: 0.9119 - val_accuracy: 0.5035\n",
            "Epoch 10/20\n",
            "394/398 [============================>.] - ETA: 0s - loss: 0.8960 - accuracy: 0.5034\n",
            "Epoch 00010: saving model to training_2/cp-0010.ckpt\n",
            "398/398 [==============================] - 3s 8ms/step - loss: 0.8955 - accuracy: 0.5039 - val_loss: 0.9107 - val_accuracy: 0.5014\n",
            "Epoch 11/20\n",
            "394/398 [============================>.] - ETA: 0s - loss: 0.8929 - accuracy: 0.5057\n",
            "Epoch 00011: saving model to training_2/cp-0011.ckpt\n",
            "398/398 [==============================] - 3s 8ms/step - loss: 0.8929 - accuracy: 0.5059 - val_loss: 0.9125 - val_accuracy: 0.4929\n",
            "Epoch 12/20\n",
            "397/398 [============================>.] - ETA: 0s - loss: 0.8918 - accuracy: 0.5116\n",
            "Epoch 00012: saving model to training_2/cp-0012.ckpt\n",
            "398/398 [==============================] - 3s 8ms/step - loss: 0.8919 - accuracy: 0.5115 - val_loss: 0.9086 - val_accuracy: 0.5028\n",
            "Epoch 13/20\n",
            "393/398 [============================>.] - ETA: 0s - loss: 0.8881 - accuracy: 0.5136\n",
            "Epoch 00013: saving model to training_2/cp-0013.ckpt\n",
            "398/398 [==============================] - 3s 8ms/step - loss: 0.8880 - accuracy: 0.5133 - val_loss: 0.9139 - val_accuracy: 0.5170\n",
            "Epoch 14/20\n",
            "393/398 [============================>.] - ETA: 0s - loss: 0.8881 - accuracy: 0.5196\n",
            "Epoch 00014: saving model to training_2/cp-0014.ckpt\n",
            "398/398 [==============================] - 3s 8ms/step - loss: 0.8879 - accuracy: 0.5192 - val_loss: 0.9112 - val_accuracy: 0.4958\n",
            "Epoch 15/20\n",
            "392/398 [============================>.] - ETA: 0s - loss: 0.8822 - accuracy: 0.5207\n",
            "Epoch 00015: saving model to training_2/cp-0015.ckpt\n",
            "398/398 [==============================] - 3s 8ms/step - loss: 0.8826 - accuracy: 0.5213 - val_loss: 0.9175 - val_accuracy: 0.4901\n",
            "Epoch 16/20\n",
            "395/398 [============================>.] - ETA: 0s - loss: 0.8812 - accuracy: 0.5248\n",
            "Epoch 00016: saving model to training_2/cp-0016.ckpt\n",
            "398/398 [==============================] - 3s 8ms/step - loss: 0.8815 - accuracy: 0.5248 - val_loss: 0.9164 - val_accuracy: 0.4929\n",
            "Epoch 17/20\n",
            "398/398 [==============================] - ETA: 0s - loss: 0.8794 - accuracy: 0.5292\n",
            "Epoch 00017: saving model to training_2/cp-0017.ckpt\n",
            "398/398 [==============================] - 3s 8ms/step - loss: 0.8794 - accuracy: 0.5292 - val_loss: 0.9169 - val_accuracy: 0.4717\n",
            "Epoch 18/20\n",
            "392/398 [============================>.] - ETA: 0s - loss: 0.8759 - accuracy: 0.5300\n",
            "Epoch 00018: saving model to training_2/cp-0018.ckpt\n",
            "398/398 [==============================] - 3s 9ms/step - loss: 0.8759 - accuracy: 0.5298 - val_loss: 0.9177 - val_accuracy: 0.4865\n",
            "Epoch 19/20\n",
            "397/398 [============================>.] - ETA: 0s - loss: 0.8736 - accuracy: 0.5305\n",
            "Epoch 00019: saving model to training_2/cp-0019.ckpt\n",
            "398/398 [==============================] - 3s 8ms/step - loss: 0.8735 - accuracy: 0.5307 - val_loss: 0.9255 - val_accuracy: 0.4950\n",
            "Epoch 20/20\n",
            "396/398 [============================>.] - ETA: 0s - loss: 0.8715 - accuracy: 0.5327\n",
            "Epoch 00020: saving model to training_2/cp-0020.ckpt\n",
            "398/398 [==============================] - 3s 8ms/step - loss: 0.8712 - accuracy: 0.5332 - val_loss: 0.9244 - val_accuracy: 0.4979\n"
          ],
          "name": "stdout"
        },
        {
          "output_type": "execute_result",
          "data": {
            "text/plain": [
              "<tensorflow.python.keras.callbacks.History at 0x7f075d0cc3c8>"
            ]
          },
          "metadata": {
            "tags": []
          },
          "execution_count": 53
        }
      ]
    },
    {
      "cell_type": "code",
      "metadata": {
        "id": "_9TTxcLbDF4E",
        "colab_type": "code",
        "colab": {
          "base_uri": "https://localhost:8080/",
          "height": 689
        },
        "outputId": "455939a8-089d-4603-85b9-20bc64b2373e"
      },
      "source": [
        "for i in range(1,21):\n",
        "  if i<10:\n",
        "    num=\"0\"+str(i)\n",
        "  else:\n",
        "    num=str(i)\n",
        "  s=\"training_2/cp-00\"+num+\".ckpt\"\n",
        "  model.load_weights(s)\n",
        "  test_loss, test_acc = model.evaluate(X_test,y_test)\n",
        "  print('Test Accuracy: {}'.format(test_acc))\n",
        "#test_loss, test_acc = model.evaluate(X_test,y_test)\n",
        "#print('Test Loss: {}'.format(test_loss))\n",
        "#print('Test Accuracy: {}'.format(test_acc))"
      ],
      "execution_count": null,
      "outputs": [
        {
          "output_type": "stream",
          "text": [
            "126/126 [==============================] - 1s 4ms/step - loss: 0.9071 - accuracy: 0.4704\n",
            "Test Accuracy: 0.47036853432655334\n",
            "126/126 [==============================] - 0s 4ms/step - loss: 0.9078 - accuracy: 0.4704\n",
            "Test Accuracy: 0.47036853432655334\n",
            "126/126 [==============================] - 0s 4ms/step - loss: 0.9101 - accuracy: 0.4704\n",
            "Test Accuracy: 0.47036853432655334\n",
            "126/126 [==============================] - 1s 4ms/step - loss: 0.9092 - accuracy: 0.4704\n",
            "Test Accuracy: 0.47036853432655334\n",
            "126/126 [==============================] - 1s 4ms/step - loss: 0.9053 - accuracy: 0.4796\n",
            "Test Accuracy: 0.47958168387413025\n",
            "126/126 [==============================] - 1s 4ms/step - loss: 0.9075 - accuracy: 0.4756\n",
            "Test Accuracy: 0.475597620010376\n",
            "126/126 [==============================] - 0s 4ms/step - loss: 0.9043 - accuracy: 0.4878\n",
            "Test Accuracy: 0.487798810005188\n",
            "126/126 [==============================] - 0s 4ms/step - loss: 0.9072 - accuracy: 0.4873\n",
            "Test Accuracy: 0.4873007833957672\n",
            "126/126 [==============================] - 0s 4ms/step - loss: 0.9031 - accuracy: 0.4893\n",
            "Test Accuracy: 0.48929283022880554\n",
            "126/126 [==============================] - 0s 4ms/step - loss: 0.9028 - accuracy: 0.4905\n",
            "Test Accuracy: 0.4905378520488739\n",
            "126/126 [==============================] - 0s 4ms/step - loss: 0.9130 - accuracy: 0.4838\n",
            "Test Accuracy: 0.4838147461414337\n",
            "126/126 [==============================] - 0s 4ms/step - loss: 0.9073 - accuracy: 0.4883\n",
            "Test Accuracy: 0.4882968068122864\n",
            "126/126 [==============================] - 1s 4ms/step - loss: 0.9095 - accuracy: 0.4968\n",
            "Test Accuracy: 0.4967629611492157\n",
            "126/126 [==============================] - 0s 4ms/step - loss: 0.9112 - accuracy: 0.4843\n",
            "Test Accuracy: 0.4843127429485321\n",
            "126/126 [==============================] - 0s 4ms/step - loss: 0.9065 - accuracy: 0.4993\n",
            "Test Accuracy: 0.49925297498703003\n",
            "126/126 [==============================] - 0s 4ms/step - loss: 0.9110 - accuracy: 0.4885\n",
            "Test Accuracy: 0.48854580521583557\n",
            "126/126 [==============================] - 0s 4ms/step - loss: 0.9088 - accuracy: 0.4900\n",
            "Test Accuracy: 0.4900398552417755\n",
            "126/126 [==============================] - 0s 4ms/step - loss: 0.9163 - accuracy: 0.4948\n",
            "Test Accuracy: 0.49477091431617737\n",
            "126/126 [==============================] - 0s 4ms/step - loss: 0.9178 - accuracy: 0.5022\n",
            "Test Accuracy: 0.5022410154342651\n",
            "126/126 [==============================] - 0s 4ms/step - loss: 0.9286 - accuracy: 0.4900\n",
            "Test Accuracy: 0.4900398552417755\n"
          ],
          "name": "stdout"
        }
      ]
    },
    {
      "cell_type": "code",
      "metadata": {
        "id": "-QJKZz-YDF85",
        "colab_type": "code",
        "colab": {
          "base_uri": "https://localhost:8080/",
          "height": 171
        },
        "outputId": "0322ceb5-b15c-4b19-bee9-01158edf0104"
      },
      "source": [
        "model.load_weights(\"training_2/cp-0019.ckpt\")\n",
        "l=model.predict_classes(X_test)\n",
        "test_loss, test_acc = model.evaluate(X_test,y_test)\n",
        "print('Test Loss: {}'.format(test_loss))\n",
        "print('Test Accuracy: {}'.format(test_acc))\n",
        "l2=[]\n",
        "for i in l:\n",
        "  if i not in l2:\n",
        "    l2.append(i)\n",
        "    print(i)"
      ],
      "execution_count": null,
      "outputs": [
        {
          "output_type": "stream",
          "text": [
            "WARNING:tensorflow:From <ipython-input-55-b603cda0ba62>:2: Sequential.predict_classes (from tensorflow.python.keras.engine.sequential) is deprecated and will be removed after 2021-01-01.\n",
            "Instructions for updating:\n",
            "Please use instead:* `np.argmax(model.predict(x), axis=-1)`,   if your model does multi-class classification   (e.g. if it uses a `softmax` last-layer activation).* `(model.predict(x) > 0.5).astype(\"int32\")`,   if your model does binary classification   (e.g. if it uses a `sigmoid` last-layer activation).\n",
            "126/126 [==============================] - 0s 4ms/step - loss: 0.9178 - accuracy: 0.5022\n",
            "Test Loss: 0.9178153872489929\n",
            "Test Accuracy: 0.5022410154342651\n",
            "2\n",
            "1\n"
          ],
          "name": "stdout"
        }
      ]
    },
    {
      "cell_type": "code",
      "metadata": {
        "id": "32WzaI9tDGCA",
        "colab_type": "code",
        "colab": {}
      },
      "source": [
        "#using modified CNN_GRU\n",
        "model = tf.keras.Sequential()\n",
        "model.add(tf.keras.layers.Embedding(52,52,weights=[embedding_weights]))\n",
        "model.add(tf.keras.layers.SpatialDropout1D(0.2)) # add spatial dropout\n",
        "model.add(tf.keras.layers.Conv1D(52, 5, activation='relu')) # increase kernel size to 5\n",
        "model.add(tf.keras.layers.MaxPooling1D(4))\n",
        "model.add(tf.keras.layers.BatchNormalization()) # add batch normalization\n",
        "model.add(tf.keras.layers.Dropout(0.1))\n",
        "# modify to CuDNNGRU\n",
        "#model.add(GRU(64, dropout=0.1, recurrent_dropout=0.5)) # defaults inclide tanh activation\n",
        "model.add(tf.compat.v1.keras.layers.CuDNNGRU(64)) # does not have a dropout or recurrent dropout param\n",
        "model.add(tf.keras.layers.BatchNormalization())\n",
        "model.add(tf.keras.layers.Dropout(0.1))\n",
        "model.add(tf.keras.layers.Dense(3, activation='softmax'))"
      ],
      "execution_count": null,
      "outputs": []
    },
    {
      "cell_type": "code",
      "metadata": {
        "id": "AdcQSZ9kDGGH",
        "colab_type": "code",
        "colab": {}
      },
      "source": [
        "model.compile(loss='sparse_categorical_crossentropy',\n",
        "              optimizer='Adam',\n",
        "              metrics=['accuracy'])"
      ],
      "execution_count": null,
      "outputs": []
    },
    {
      "cell_type": "code",
      "metadata": {
        "id": "xKy-otIcDGKt",
        "colab_type": "code",
        "colab": {}
      },
      "source": [
        "model.save_weights(checkpoint_path.format(epoch=0))"
      ],
      "execution_count": null,
      "outputs": []
    },
    {
      "cell_type": "code",
      "metadata": {
        "id": "fLCocEM5DGPt",
        "colab_type": "code",
        "colab": {}
      },
      "source": [
        "model.fit(X_train,y_train,epochs=40,validation_data=(X_train_val,y_train_val),callbacks=[cp_callback])"
      ],
      "execution_count": null,
      "outputs": []
    },
    {
      "cell_type": "code",
      "metadata": {
        "id": "4mHivVuIDGUT",
        "colab_type": "code",
        "colab": {}
      },
      "source": [
        "for i in range(1,41):\n",
        "  if i<10:\n",
        "    num=\"0\"+str(i)\n",
        "  else:\n",
        "    num=str(i)\n",
        "  s=\"training_2/cp-00\"+num+\".ckpt\"\n",
        "  model.load_weights(s)\n",
        "  test_loss, test_acc = model.evaluate(X_test,y_test)\n",
        "  print('Test Accuracy: {}'.format(test_acc))\n",
        "#test_loss, test_acc = model.evaluate(X_test,y_test)\n",
        "#print('Test Loss: {}'.format(test_loss))\n",
        "#print('Test Accuracy: {}'.format(test_acc))"
      ],
      "execution_count": null,
      "outputs": []
    },
    {
      "cell_type": "code",
      "metadata": {
        "id": "HSqKSsR5DGZV",
        "colab_type": "code",
        "colab": {}
      },
      "source": [
        "#CNN_LSTM\n",
        "model = tf.keras.Sequential()\n",
        "layer=tf.keras.layers.Embedding(52,52,input_length=52)\n",
        "model.add(layer)\n",
        "model.add(tf.keras.layers.Conv1D(52, 3))\n",
        "model.add(tf.keras.layers.SpatialDropout1D(0.01))\n",
        "model.add(tf.keras.layers.MaxPooling1D(4))\n",
        "model.add(tf.compat.v1.keras.layers.CuDNNLSTM(64))\n",
        "model.add(tf.keras.layers.Dropout(0.01))\n",
        "model.add(tf.keras.layers.Dense(3, activation='softmax'))"
      ],
      "execution_count": null,
      "outputs": []
    },
    {
      "cell_type": "code",
      "metadata": {
        "id": "GaEs8yxNDGc2",
        "colab_type": "code",
        "colab": {}
      },
      "source": [
        "model.compile(loss=tf.keras.losses.SparseCategoricalCrossentropy(from_logits=True),\n",
        "              optimizer=tf.compat.v1.train.AdamOptimizer(learning_rate=0.001),\n",
        "              metrics=['accuracy'])"
      ],
      "execution_count": null,
      "outputs": []
    },
    {
      "cell_type": "code",
      "metadata": {
        "id": "CdYZL2W_DGfC",
        "colab_type": "code",
        "colab": {}
      },
      "source": [
        "model.save_weights(checkpoint_path.format(epoch=0))"
      ],
      "execution_count": null,
      "outputs": []
    },
    {
      "cell_type": "code",
      "metadata": {
        "id": "Kdz2dqz6DGkG",
        "colab_type": "code",
        "colab": {
          "base_uri": "https://localhost:8080/",
          "height": 1000
        },
        "outputId": "9ee6e702-c1c6-4fd0-89c2-0af2325e6791"
      },
      "source": [
        "model.fit(X_train,y_train,epochs=20,validation_data=(X_test_val,y_test_val),callbacks=[cp_callback])"
      ],
      "execution_count": null,
      "outputs": [
        {
          "output_type": "stream",
          "text": [
            "Epoch 1/20\n",
            "393/398 [============================>.] - ETA: 0s - loss: 0.9997 - accuracy: 0.4738\n",
            "Epoch 00001: saving model to training_2/cp-0001.ckpt\n",
            "398/398 [==============================] - 3s 9ms/step - loss: 0.9996 - accuracy: 0.4737 - val_loss: 0.9951 - val_accuracy: 0.4458\n",
            "Epoch 2/20\n",
            "392/398 [============================>.] - ETA: 0s - loss: 0.9955 - accuracy: 0.4863\n",
            "Epoch 00002: saving model to training_2/cp-0002.ckpt\n",
            "398/398 [==============================] - 3s 8ms/step - loss: 0.9955 - accuracy: 0.4860 - val_loss: 0.9947 - val_accuracy: 0.4458\n",
            "Epoch 3/20\n",
            "397/398 [============================>.] - ETA: 0s - loss: 0.9947 - accuracy: 0.4841\n",
            "Epoch 00003: saving model to training_2/cp-0003.ckpt\n",
            "398/398 [==============================] - 3s 8ms/step - loss: 0.9948 - accuracy: 0.4840 - val_loss: 0.9911 - val_accuracy: 0.5005\n",
            "Epoch 4/20\n",
            "398/398 [==============================] - ETA: 0s - loss: 0.9932 - accuracy: 0.4907\n",
            "Epoch 00004: saving model to training_2/cp-0004.ckpt\n",
            "398/398 [==============================] - 3s 8ms/step - loss: 0.9932 - accuracy: 0.4907 - val_loss: 1.0097 - val_accuracy: 0.4468\n",
            "Epoch 5/20\n",
            "398/398 [==============================] - ETA: 0s - loss: 0.9917 - accuracy: 0.4961\n",
            "Epoch 00005: saving model to training_2/cp-0005.ckpt\n",
            "398/398 [==============================] - 3s 8ms/step - loss: 0.9917 - accuracy: 0.4961 - val_loss: 0.9967 - val_accuracy: 0.4468\n",
            "Epoch 6/20\n",
            "397/398 [============================>.] - ETA: 0s - loss: 0.9906 - accuracy: 0.4974\n",
            "Epoch 00006: saving model to training_2/cp-0006.ckpt\n",
            "398/398 [==============================] - 3s 8ms/step - loss: 0.9906 - accuracy: 0.4973 - val_loss: 0.9901 - val_accuracy: 0.4925\n",
            "Epoch 7/20\n",
            "395/398 [============================>.] - ETA: 0s - loss: 0.9891 - accuracy: 0.4967\n",
            "Epoch 00007: saving model to training_2/cp-0007.ckpt\n",
            "398/398 [==============================] - 3s 8ms/step - loss: 0.9893 - accuracy: 0.4961 - val_loss: 0.9920 - val_accuracy: 0.4945\n",
            "Epoch 8/20\n",
            "394/398 [============================>.] - ETA: 0s - loss: 0.9885 - accuracy: 0.5010\n",
            "Epoch 00008: saving model to training_2/cp-0008.ckpt\n",
            "398/398 [==============================] - 3s 8ms/step - loss: 0.9887 - accuracy: 0.5001 - val_loss: 0.9967 - val_accuracy: 0.4766\n",
            "Epoch 9/20\n",
            "392/398 [============================>.] - ETA: 0s - loss: 0.9861 - accuracy: 0.5051\n",
            "Epoch 00009: saving model to training_2/cp-0009.ckpt\n",
            "398/398 [==============================] - 3s 8ms/step - loss: 0.9862 - accuracy: 0.5052 - val_loss: 0.9949 - val_accuracy: 0.4766\n",
            "Epoch 10/20\n",
            "394/398 [============================>.] - ETA: 0s - loss: 0.9842 - accuracy: 0.5087\n",
            "Epoch 00010: saving model to training_2/cp-0010.ckpt\n",
            "398/398 [==============================] - 3s 8ms/step - loss: 0.9843 - accuracy: 0.5089 - val_loss: 0.9934 - val_accuracy: 0.4796\n",
            "Epoch 11/20\n",
            "392/398 [============================>.] - ETA: 0s - loss: 0.9833 - accuracy: 0.5102\n",
            "Epoch 00011: saving model to training_2/cp-0011.ckpt\n",
            "398/398 [==============================] - 3s 8ms/step - loss: 0.9833 - accuracy: 0.5107 - val_loss: 0.9935 - val_accuracy: 0.4806\n",
            "Epoch 12/20\n",
            "394/398 [============================>.] - ETA: 0s - loss: 0.9811 - accuracy: 0.5151\n",
            "Epoch 00012: saving model to training_2/cp-0012.ckpt\n",
            "398/398 [==============================] - 3s 8ms/step - loss: 0.9811 - accuracy: 0.5153 - val_loss: 0.9978 - val_accuracy: 0.4846\n",
            "Epoch 13/20\n",
            "394/398 [============================>.] - ETA: 0s - loss: 0.9789 - accuracy: 0.5204\n",
            "Epoch 00013: saving model to training_2/cp-0013.ckpt\n",
            "398/398 [==============================] - 3s 8ms/step - loss: 0.9790 - accuracy: 0.5203 - val_loss: 0.9896 - val_accuracy: 0.5075\n",
            "Epoch 14/20\n",
            "393/398 [============================>.] - ETA: 0s - loss: 0.9802 - accuracy: 0.5181\n",
            "Epoch 00014: saving model to training_2/cp-0014.ckpt\n",
            "398/398 [==============================] - 3s 8ms/step - loss: 0.9801 - accuracy: 0.5178 - val_loss: 0.9930 - val_accuracy: 0.4896\n",
            "Epoch 15/20\n",
            "393/398 [============================>.] - ETA: 0s - loss: 0.9772 - accuracy: 0.5226\n",
            "Epoch 00015: saving model to training_2/cp-0015.ckpt\n",
            "398/398 [==============================] - 3s 8ms/step - loss: 0.9771 - accuracy: 0.5230 - val_loss: 0.9884 - val_accuracy: 0.5005\n",
            "Epoch 16/20\n",
            "394/398 [============================>.] - ETA: 0s - loss: 0.9736 - accuracy: 0.5295\n",
            "Epoch 00016: saving model to training_2/cp-0016.ckpt\n",
            "398/398 [==============================] - 3s 8ms/step - loss: 0.9739 - accuracy: 0.5292 - val_loss: 0.9949 - val_accuracy: 0.4955\n",
            "Epoch 17/20\n",
            "395/398 [============================>.] - ETA: 0s - loss: 0.9727 - accuracy: 0.5318\n",
            "Epoch 00017: saving model to training_2/cp-0017.ckpt\n",
            "398/398 [==============================] - 3s 8ms/step - loss: 0.9725 - accuracy: 0.5321 - val_loss: 1.0064 - val_accuracy: 0.4816\n",
            "Epoch 18/20\n",
            "397/398 [============================>.] - ETA: 0s - loss: 0.9709 - accuracy: 0.5310\n",
            "Epoch 00018: saving model to training_2/cp-0018.ckpt\n",
            "398/398 [==============================] - 3s 8ms/step - loss: 0.9709 - accuracy: 0.5310 - val_loss: 1.0079 - val_accuracy: 0.4856\n",
            "Epoch 19/20\n",
            "393/398 [============================>.] - ETA: 0s - loss: 0.9677 - accuracy: 0.5379\n",
            "Epoch 00019: saving model to training_2/cp-0019.ckpt\n",
            "398/398 [==============================] - 3s 8ms/step - loss: 0.9679 - accuracy: 0.5374 - val_loss: 0.9908 - val_accuracy: 0.4925\n",
            "Epoch 20/20\n",
            "395/398 [============================>.] - ETA: 0s - loss: 0.9665 - accuracy: 0.5346\n",
            "Epoch 00020: saving model to training_2/cp-0020.ckpt\n",
            "398/398 [==============================] - 3s 8ms/step - loss: 0.9665 - accuracy: 0.5347 - val_loss: 0.9921 - val_accuracy: 0.4866\n"
          ],
          "name": "stdout"
        },
        {
          "output_type": "execute_result",
          "data": {
            "text/plain": [
              "<tensorflow.python.keras.callbacks.History at 0x7f075aa53828>"
            ]
          },
          "metadata": {
            "tags": []
          },
          "execution_count": 59
        }
      ]
    },
    {
      "cell_type": "code",
      "metadata": {
        "id": "qTNvvCX7DGnn",
        "colab_type": "code",
        "colab": {
          "base_uri": "https://localhost:8080/",
          "height": 689
        },
        "outputId": "c858abb6-0714-4927-fb03-7be16a7ceb49"
      },
      "source": [
        "for i in range(1,21):\n",
        "  if i<10:\n",
        "    num=\"0\"+str(i)\n",
        "  else:\n",
        "    num=str(i)\n",
        "  s=\"training_2/cp-00\"+num+\".ckpt\"\n",
        "  model.load_weights(s)\n",
        "  test_loss, test_acc = model.evaluate(X_test,y_test)\n",
        "  print('Test Accuracy: {}'.format(test_acc))\n",
        "#test_loss, test_acc = model.evaluate(X_test,y_test)\n",
        "#print('Test Loss: {}'.format(test_loss))\n",
        "#print('Test Accuracy: {}'.format(test_acc))"
      ],
      "execution_count": null,
      "outputs": [
        {
          "output_type": "stream",
          "text": [
            "126/126 [==============================] - 1s 4ms/step - loss: 0.9956 - accuracy: 0.4704\n",
            "Test Accuracy: 0.47036853432655334\n",
            "126/126 [==============================] - 0s 4ms/step - loss: 0.9951 - accuracy: 0.4704\n",
            "Test Accuracy: 0.47036853432655334\n",
            "126/126 [==============================] - 0s 4ms/step - loss: 0.9943 - accuracy: 0.4928\n",
            "Test Accuracy: 0.4927788972854614\n",
            "126/126 [==============================] - 1s 4ms/step - loss: 1.0023 - accuracy: 0.4736\n",
            "Test Accuracy: 0.47360557317733765\n",
            "126/126 [==============================] - 0s 4ms/step - loss: 0.9949 - accuracy: 0.4741\n",
            "Test Accuracy: 0.4741035997867584\n",
            "126/126 [==============================] - 0s 4ms/step - loss: 0.9921 - accuracy: 0.4968\n",
            "Test Accuracy: 0.4967629611492157\n",
            "126/126 [==============================] - 0s 4ms/step - loss: 0.9910 - accuracy: 0.4933\n",
            "Test Accuracy: 0.4932768940925598\n",
            "126/126 [==============================] - 0s 4ms/step - loss: 0.9929 - accuracy: 0.4940\n",
            "Test Accuracy: 0.4940239191055298\n",
            "126/126 [==============================] - 0s 4ms/step - loss: 0.9930 - accuracy: 0.4838\n",
            "Test Accuracy: 0.4838147461414337\n",
            "126/126 [==============================] - 0s 4ms/step - loss: 0.9911 - accuracy: 0.4905\n",
            "Test Accuracy: 0.4905378520488739\n",
            "126/126 [==============================] - 1s 4ms/step - loss: 0.9932 - accuracy: 0.4915\n",
            "Test Accuracy: 0.49153387546539307\n",
            "126/126 [==============================] - 0s 4ms/step - loss: 0.9947 - accuracy: 0.4868\n",
            "Test Accuracy: 0.4868027865886688\n",
            "126/126 [==============================] - 0s 4ms/step - loss: 0.9918 - accuracy: 0.4975\n",
            "Test Accuracy: 0.4975099563598633\n",
            "126/126 [==============================] - 0s 4ms/step - loss: 0.9933 - accuracy: 0.4893\n",
            "Test Accuracy: 0.48929283022880554\n",
            "126/126 [==============================] - 0s 4ms/step - loss: 0.9936 - accuracy: 0.4910\n",
            "Test Accuracy: 0.4910358488559723\n",
            "126/126 [==============================] - 0s 4ms/step - loss: 0.9962 - accuracy: 0.4856\n",
            "Test Accuracy: 0.48555776476860046\n",
            "126/126 [==============================] - 0s 4ms/step - loss: 1.0055 - accuracy: 0.4863\n",
            "Test Accuracy: 0.48630478978157043\n",
            "126/126 [==============================] - 0s 4ms/step - loss: 1.0104 - accuracy: 0.4888\n",
            "Test Accuracy: 0.48879483342170715\n",
            "126/126 [==============================] - 0s 4ms/step - loss: 0.9957 - accuracy: 0.4823\n",
            "Test Accuracy: 0.48232072591781616\n",
            "126/126 [==============================] - 0s 4ms/step - loss: 0.9924 - accuracy: 0.4925\n",
            "Test Accuracy: 0.49252986907958984\n"
          ],
          "name": "stdout"
        }
      ]
    },
    {
      "cell_type": "code",
      "metadata": {
        "id": "MHgahBStDGp_",
        "colab_type": "code",
        "colab": {
          "base_uri": "https://localhost:8080/",
          "height": 84
        },
        "outputId": "246e0b92-f409-496c-9614-e7ace260c492"
      },
      "source": [
        "model.load_weights(\"training_2/cp-0013.ckpt\")\n",
        "test_loss, test_acc = model.evaluate(X_test,y_test)\n",
        "print('Test Accuracy: {}'.format(test_acc))\n",
        "l=model.predict_classes(X_test)\n",
        "l2=[]\n",
        "for i in l:\n",
        "  if i not in l2:\n",
        "    l2.append(i)\n",
        "    print(i)"
      ],
      "execution_count": null,
      "outputs": [
        {
          "output_type": "stream",
          "text": [
            "126/126 [==============================] - 0s 4ms/step - loss: 0.9918 - accuracy: 0.4975\n",
            "Test Accuracy: 0.4975099563598633\n",
            "2\n",
            "1\n"
          ],
          "name": "stdout"
        }
      ]
    },
    {
      "cell_type": "code",
      "metadata": {
        "id": "wt3qp7wZDGuk",
        "colab_type": "code",
        "colab": {}
      },
      "source": [
        "#BiGRU\n",
        "model = tf.keras.Sequential()\n",
        "model.add(tf.keras.layers.Embedding(52,52,weights=[embedding_weights]))\n",
        "model.add(tf.keras.layers.Bidirectional(tf.compat.v1.keras.layers.CuDNNGRU(52)))\n",
        "model.add(tf.keras.layers.Dropout(0.1))\n",
        "model.add(tf.keras.layers.Dense(350))\n",
        "model.add(tf.keras.layers.Dense(3,activation='softmax'))"
      ],
      "execution_count": null,
      "outputs": []
    },
    {
      "cell_type": "code",
      "metadata": {
        "id": "6f99KLWIDGz1",
        "colab_type": "code",
        "colab": {}
      },
      "source": [
        "model.compile(loss='sparse_categorical_crossentropy',\n",
        "              optimizer=tf.keras.optimizers.Adam(),\n",
        "              metrics=['accuracy'])"
      ],
      "execution_count": null,
      "outputs": []
    },
    {
      "cell_type": "code",
      "metadata": {
        "id": "uZ7d3Jo0DG5O",
        "colab_type": "code",
        "colab": {}
      },
      "source": [
        "model.save_weights(checkpoint_path.format(epoch=0))"
      ],
      "execution_count": null,
      "outputs": []
    },
    {
      "cell_type": "code",
      "metadata": {
        "id": "o8YTrciUDG-J",
        "colab_type": "code",
        "colab": {
          "base_uri": "https://localhost:8080/",
          "height": 1000
        },
        "outputId": "ea53ad19-a819-4567-b5eb-e867739f94e9"
      },
      "source": [
        "history=model.fit(X_train,y_train,epochs=20,validation_data=(X_test_val,y_test_val), callbacks=[cp_callback])"
      ],
      "execution_count": null,
      "outputs": [
        {
          "output_type": "stream",
          "text": [
            "Epoch 1/20\n",
            "398/398 [==============================] - ETA: 0s - loss: 0.9129 - accuracy: 0.4793\n",
            "Epoch 00001: saving model to training_2/cp-0001.ckpt\n",
            "398/398 [==============================] - 10s 25ms/step - loss: 0.9129 - accuracy: 0.4793 - val_loss: 0.9126 - val_accuracy: 0.4458\n",
            "Epoch 2/20\n",
            "398/398 [==============================] - ETA: 0s - loss: 0.9102 - accuracy: 0.4843\n",
            "Epoch 00002: saving model to training_2/cp-0002.ckpt\n",
            "398/398 [==============================] - 9s 24ms/step - loss: 0.9102 - accuracy: 0.4843 - val_loss: 0.8957 - val_accuracy: 0.4955\n",
            "Epoch 3/20\n",
            "396/398 [============================>.] - ETA: 0s - loss: 0.9082 - accuracy: 0.4818\n",
            "Epoch 00003: saving model to training_2/cp-0003.ckpt\n",
            "398/398 [==============================] - 9s 24ms/step - loss: 0.9083 - accuracy: 0.4818 - val_loss: 0.8953 - val_accuracy: 0.5134\n",
            "Epoch 4/20\n",
            "398/398 [==============================] - ETA: 0s - loss: 0.9072 - accuracy: 0.4886\n",
            "Epoch 00004: saving model to training_2/cp-0004.ckpt\n",
            "398/398 [==============================] - 9s 24ms/step - loss: 0.9072 - accuracy: 0.4886 - val_loss: 0.8967 - val_accuracy: 0.4935\n",
            "Epoch 5/20\n",
            "396/398 [============================>.] - ETA: 0s - loss: 0.9057 - accuracy: 0.4886\n",
            "Epoch 00005: saving model to training_2/cp-0005.ckpt\n",
            "398/398 [==============================] - 9s 24ms/step - loss: 0.9059 - accuracy: 0.4884 - val_loss: 0.9146 - val_accuracy: 0.4517\n",
            "Epoch 6/20\n",
            "397/398 [============================>.] - ETA: 0s - loss: 0.9049 - accuracy: 0.4895\n",
            "Epoch 00006: saving model to training_2/cp-0006.ckpt\n",
            "398/398 [==============================] - 10s 24ms/step - loss: 0.9051 - accuracy: 0.4895 - val_loss: 0.9272 - val_accuracy: 0.4478\n",
            "Epoch 7/20\n",
            "397/398 [============================>.] - ETA: 0s - loss: 0.9047 - accuracy: 0.4951\n",
            "Epoch 00007: saving model to training_2/cp-0007.ckpt\n",
            "398/398 [==============================] - 9s 24ms/step - loss: 0.9047 - accuracy: 0.4952 - val_loss: 0.8999 - val_accuracy: 0.4816\n",
            "Epoch 8/20\n",
            "396/398 [============================>.] - ETA: 0s - loss: 0.9046 - accuracy: 0.4948\n",
            "Epoch 00008: saving model to training_2/cp-0008.ckpt\n",
            "398/398 [==============================] - 9s 24ms/step - loss: 0.9044 - accuracy: 0.4949 - val_loss: 0.9048 - val_accuracy: 0.4607\n",
            "Epoch 9/20\n",
            "396/398 [============================>.] - ETA: 0s - loss: 0.9038 - accuracy: 0.4985\n",
            "Epoch 00009: saving model to training_2/cp-0009.ckpt\n",
            "398/398 [==============================] - 9s 24ms/step - loss: 0.9037 - accuracy: 0.4987 - val_loss: 0.9008 - val_accuracy: 0.4687\n",
            "Epoch 10/20\n",
            "397/398 [============================>.] - ETA: 0s - loss: 0.9034 - accuracy: 0.4928\n",
            "Epoch 00010: saving model to training_2/cp-0010.ckpt\n",
            "398/398 [==============================] - 9s 24ms/step - loss: 0.9034 - accuracy: 0.4928 - val_loss: 0.8947 - val_accuracy: 0.4905\n",
            "Epoch 11/20\n",
            "396/398 [============================>.] - ETA: 0s - loss: 0.9025 - accuracy: 0.4948\n",
            "Epoch 00011: saving model to training_2/cp-0011.ckpt\n",
            "398/398 [==============================] - 9s 24ms/step - loss: 0.9027 - accuracy: 0.4952 - val_loss: 0.8969 - val_accuracy: 0.5095\n",
            "Epoch 12/20\n",
            "396/398 [============================>.] - ETA: 0s - loss: 0.9016 - accuracy: 0.5015\n",
            "Epoch 00012: saving model to training_2/cp-0012.ckpt\n",
            "398/398 [==============================] - 9s 24ms/step - loss: 0.9017 - accuracy: 0.5017 - val_loss: 0.9043 - val_accuracy: 0.4687\n",
            "Epoch 13/20\n",
            "397/398 [============================>.] - ETA: 0s - loss: 0.9015 - accuracy: 0.4976\n",
            "Epoch 00013: saving model to training_2/cp-0013.ckpt\n",
            "398/398 [==============================] - 9s 24ms/step - loss: 0.9016 - accuracy: 0.4976 - val_loss: 0.9085 - val_accuracy: 0.4547\n",
            "Epoch 14/20\n",
            "398/398 [==============================] - ETA: 0s - loss: 0.9011 - accuracy: 0.4993\n",
            "Epoch 00014: saving model to training_2/cp-0014.ckpt\n",
            "398/398 [==============================] - 9s 24ms/step - loss: 0.9011 - accuracy: 0.4993 - val_loss: 0.8910 - val_accuracy: 0.5035\n",
            "Epoch 15/20\n",
            "398/398 [==============================] - ETA: 0s - loss: 0.8993 - accuracy: 0.4998\n",
            "Epoch 00015: saving model to training_2/cp-0015.ckpt\n",
            "398/398 [==============================] - 9s 24ms/step - loss: 0.8993 - accuracy: 0.4998 - val_loss: 0.9031 - val_accuracy: 0.4816\n",
            "Epoch 16/20\n",
            "396/398 [============================>.] - ETA: 0s - loss: 0.8982 - accuracy: 0.5026\n",
            "Epoch 00016: saving model to training_2/cp-0016.ckpt\n",
            "398/398 [==============================] - 9s 24ms/step - loss: 0.8983 - accuracy: 0.5022 - val_loss: 0.8966 - val_accuracy: 0.4816\n",
            "Epoch 17/20\n",
            "396/398 [============================>.] - ETA: 0s - loss: 0.8991 - accuracy: 0.5054\n",
            "Epoch 00017: saving model to training_2/cp-0017.ckpt\n",
            "398/398 [==============================] - 9s 24ms/step - loss: 0.8992 - accuracy: 0.5053 - val_loss: 0.9017 - val_accuracy: 0.4756\n",
            "Epoch 18/20\n",
            "396/398 [============================>.] - ETA: 0s - loss: 0.8968 - accuracy: 0.5063\n",
            "Epoch 00018: saving model to training_2/cp-0018.ckpt\n",
            "398/398 [==============================] - 9s 24ms/step - loss: 0.8965 - accuracy: 0.5066 - val_loss: 0.8969 - val_accuracy: 0.4945\n",
            "Epoch 19/20\n",
            "397/398 [============================>.] - ETA: 0s - loss: 0.8962 - accuracy: 0.5056\n",
            "Epoch 00019: saving model to training_2/cp-0019.ckpt\n",
            "398/398 [==============================] - 9s 24ms/step - loss: 0.8962 - accuracy: 0.5055 - val_loss: 0.9022 - val_accuracy: 0.4796\n",
            "Epoch 20/20\n",
            "396/398 [============================>.] - ETA: 0s - loss: 0.8939 - accuracy: 0.5110\n",
            "Epoch 00020: saving model to training_2/cp-0020.ckpt\n",
            "398/398 [==============================] - 9s 24ms/step - loss: 0.8940 - accuracy: 0.5108 - val_loss: 0.9129 - val_accuracy: 0.4716\n"
          ],
          "name": "stdout"
        }
      ]
    },
    {
      "cell_type": "code",
      "metadata": {
        "id": "XO-LhWdwDHDN",
        "colab_type": "code",
        "colab": {
          "base_uri": "https://localhost:8080/",
          "height": 689
        },
        "outputId": "1ddb9b10-e3f8-4c45-b0e2-cbe085a72734"
      },
      "source": [
        "for i in range(1,21):\n",
        "  if i<10:\n",
        "    num=\"0\"+str(i)\n",
        "  else:\n",
        "    num=str(i)\n",
        "  s=\"training_2/cp-00\"+num+\".ckpt\"\n",
        "  model.load_weights(s)\n",
        "  test_loss, test_acc = model.evaluate(X_test,y_test)\n",
        "  print('Test Accuracy: {}'.format(test_acc))"
      ],
      "execution_count": null,
      "outputs": [
        {
          "output_type": "stream",
          "text": [
            "126/126 [==============================] - 1s 10ms/step - loss: 0.9142 - accuracy: 0.4696\n",
            "Test Accuracy: 0.4696215093135834\n",
            "126/126 [==============================] - 1s 10ms/step - loss: 0.9037 - accuracy: 0.4918\n",
            "Test Accuracy: 0.49178287386894226\n",
            "126/126 [==============================] - 1s 9ms/step - loss: 0.9034 - accuracy: 0.4960\n",
            "Test Accuracy: 0.4960159361362457\n",
            "126/126 [==============================] - 1s 10ms/step - loss: 0.9042 - accuracy: 0.4888\n",
            "Test Accuracy: 0.48879483342170715\n",
            "126/126 [==============================] - 1s 10ms/step - loss: 0.9148 - accuracy: 0.4749\n",
            "Test Accuracy: 0.474850594997406\n",
            "126/126 [==============================] - 1s 9ms/step - loss: 0.9194 - accuracy: 0.4726\n",
            "Test Accuracy: 0.4726095497608185\n",
            "126/126 [==============================] - 1s 10ms/step - loss: 0.9045 - accuracy: 0.4846\n",
            "Test Accuracy: 0.4845617413520813\n",
            "126/126 [==============================] - 1s 10ms/step - loss: 0.9070 - accuracy: 0.4771\n",
            "Test Accuracy: 0.47709164023399353\n",
            "126/126 [==============================] - 1s 10ms/step - loss: 0.9067 - accuracy: 0.4763\n",
            "Test Accuracy: 0.47634461522102356\n",
            "126/126 [==============================] - 1s 9ms/step - loss: 0.9040 - accuracy: 0.4918\n",
            "Test Accuracy: 0.49178287386894226\n",
            "126/126 [==============================] - 1s 10ms/step - loss: 0.9051 - accuracy: 0.4903\n",
            "Test Accuracy: 0.4902888536453247\n",
            "126/126 [==============================] - 1s 10ms/step - loss: 0.9073 - accuracy: 0.4781\n",
            "Test Accuracy: 0.4780876636505127\n",
            "126/126 [==============================] - 1s 10ms/step - loss: 0.9105 - accuracy: 0.4781\n",
            "Test Accuracy: 0.4780876636505127\n",
            "126/126 [==============================] - 1s 9ms/step - loss: 0.9033 - accuracy: 0.4903\n",
            "Test Accuracy: 0.4902888536453247\n",
            "126/126 [==============================] - 1s 10ms/step - loss: 0.9081 - accuracy: 0.4826\n",
            "Test Accuracy: 0.48256972432136536\n",
            "126/126 [==============================] - 1s 10ms/step - loss: 0.9039 - accuracy: 0.4930\n",
            "Test Accuracy: 0.4930278956890106\n",
            "126/126 [==============================] - 1s 10ms/step - loss: 0.9071 - accuracy: 0.4833\n",
            "Test Accuracy: 0.48331671953201294\n",
            "126/126 [==============================] - 1s 10ms/step - loss: 0.9060 - accuracy: 0.4955\n",
            "Test Accuracy: 0.49551793932914734\n",
            "126/126 [==============================] - 1s 10ms/step - loss: 0.9035 - accuracy: 0.4888\n",
            "Test Accuracy: 0.48879483342170715\n",
            "126/126 [==============================] - 1s 10ms/step - loss: 0.9119 - accuracy: 0.4838\n",
            "Test Accuracy: 0.4838147461414337\n"
          ],
          "name": "stdout"
        }
      ]
    },
    {
      "cell_type": "code",
      "metadata": {
        "id": "vztUqutUDHIx",
        "colab_type": "code",
        "colab": {
          "base_uri": "https://localhost:8080/",
          "height": 84
        },
        "outputId": "c759bf49-385e-4228-b9e1-577997b925f8"
      },
      "source": [
        "model.load_weights(\"training_2/cp-0003.ckpt\")\n",
        "test_loss, test_acc = model.evaluate(X_test,y_test)\n",
        "print('Test Accuracy: {}'.format(test_acc))\n",
        "l=model.predict_classes(X_test)\n",
        "l2=[]\n",
        "for i in l:\n",
        "  if i not in l2:\n",
        "    l2.append(i)\n",
        "    print(i)"
      ],
      "execution_count": null,
      "outputs": [
        {
          "output_type": "stream",
          "text": [
            "126/126 [==============================] - 1s 10ms/step - loss: 0.9034 - accuracy: 0.4960\n",
            "Test Accuracy: 0.4960159361362457\n",
            "2\n",
            "1\n"
          ],
          "name": "stdout"
        }
      ]
    },
    {
      "cell_type": "code",
      "metadata": {
        "id": "CXwXa0MmDHN5",
        "colab_type": "code",
        "colab": {}
      },
      "source": [
        "#GRU\n",
        "model = tf.keras.Sequential()\n",
        "model.add(tf.keras.layers.Embedding(52,52,weights=[embedding_weights]))\n",
        "model.add(tf.compat.v1.keras.layers.CuDNNGRU(52))\n",
        "model.add(tf.keras.layers.Dropout(0.1))\n",
        "model.add(tf.keras.layers.Dense(350))\n",
        "model.add(tf.keras.layers.Dense(3,activation='softmax'))"
      ],
      "execution_count": null,
      "outputs": []
    },
    {
      "cell_type": "code",
      "metadata": {
        "id": "klWywKMmDHSy",
        "colab_type": "code",
        "colab": {}
      },
      "source": [
        "model.compile(loss='sparse_categorical_crossentropy',\n",
        "              optimizer=tf.keras.optimizers.Adam(),\n",
        "              metrics=['accuracy'])"
      ],
      "execution_count": null,
      "outputs": []
    },
    {
      "cell_type": "code",
      "metadata": {
        "id": "ZgaeSpdsDHX2",
        "colab_type": "code",
        "colab": {}
      },
      "source": [
        "model.save_weights(checkpoint_path.format(epoch=0))"
      ],
      "execution_count": null,
      "outputs": []
    },
    {
      "cell_type": "code",
      "metadata": {
        "id": "uvLy4hf4DHcc",
        "colab_type": "code",
        "colab": {
          "base_uri": "https://localhost:8080/",
          "height": 1000
        },
        "outputId": "a0b8e6fb-4238-4be8-d772-3dad9e2f76ce"
      },
      "source": [
        "history=model.fit(X_train,y_train,epochs=20,validation_data=(X_test_val,y_test_val), callbacks=[cp_callback])"
      ],
      "execution_count": null,
      "outputs": [
        {
          "output_type": "stream",
          "text": [
            "Epoch 1/20\n",
            "398/398 [==============================] - ETA: 0s - loss: 0.9140 - accuracy: 0.4741\n",
            "Epoch 00001: saving model to training_2/cp-0001.ckpt\n",
            "398/398 [==============================] - 6s 14ms/step - loss: 0.9140 - accuracy: 0.4741 - val_loss: 0.9127 - val_accuracy: 0.4458\n",
            "Epoch 2/20\n",
            "398/398 [==============================] - ETA: 0s - loss: 0.9108 - accuracy: 0.4754\n",
            "Epoch 00002: saving model to training_2/cp-0002.ckpt\n",
            "398/398 [==============================] - 5s 14ms/step - loss: 0.9108 - accuracy: 0.4754 - val_loss: 0.8998 - val_accuracy: 0.4458\n",
            "Epoch 3/20\n",
            "396/398 [============================>.] - ETA: 0s - loss: 0.9105 - accuracy: 0.4814\n",
            "Epoch 00003: saving model to training_2/cp-0003.ckpt\n",
            "398/398 [==============================] - 5s 14ms/step - loss: 0.9103 - accuracy: 0.4815 - val_loss: 0.9014 - val_accuracy: 0.4458\n",
            "Epoch 4/20\n",
            "395/398 [============================>.] - ETA: 0s - loss: 0.9102 - accuracy: 0.4835\n",
            "Epoch 00004: saving model to training_2/cp-0004.ckpt\n",
            "398/398 [==============================] - 5s 14ms/step - loss: 0.9098 - accuracy: 0.4834 - val_loss: 0.8974 - val_accuracy: 0.4846\n",
            "Epoch 5/20\n",
            "398/398 [==============================] - ETA: 0s - loss: 0.9099 - accuracy: 0.4828\n",
            "Epoch 00005: saving model to training_2/cp-0005.ckpt\n",
            "398/398 [==============================] - 5s 14ms/step - loss: 0.9099 - accuracy: 0.4828 - val_loss: 0.9007 - val_accuracy: 0.4458\n",
            "Epoch 6/20\n",
            "395/398 [============================>.] - ETA: 0s - loss: 0.9091 - accuracy: 0.4856\n",
            "Epoch 00006: saving model to training_2/cp-0006.ckpt\n",
            "398/398 [==============================] - 5s 14ms/step - loss: 0.9088 - accuracy: 0.4862 - val_loss: 0.9078 - val_accuracy: 0.4458\n",
            "Epoch 7/20\n",
            "398/398 [==============================] - ETA: 0s - loss: 0.9091 - accuracy: 0.4868\n",
            "Epoch 00007: saving model to training_2/cp-0007.ckpt\n",
            "398/398 [==============================] - 5s 14ms/step - loss: 0.9091 - accuracy: 0.4868 - val_loss: 0.8979 - val_accuracy: 0.4458\n",
            "Epoch 8/20\n",
            "398/398 [==============================] - ETA: 0s - loss: 0.9098 - accuracy: 0.4880\n",
            "Epoch 00008: saving model to training_2/cp-0008.ckpt\n",
            "398/398 [==============================] - 5s 14ms/step - loss: 0.9098 - accuracy: 0.4880 - val_loss: 0.8993 - val_accuracy: 0.4458\n",
            "Epoch 9/20\n",
            "397/398 [============================>.] - ETA: 0s - loss: 0.9086 - accuracy: 0.4858\n",
            "Epoch 00009: saving model to training_2/cp-0009.ckpt\n",
            "398/398 [==============================] - 5s 14ms/step - loss: 0.9086 - accuracy: 0.4858 - val_loss: 0.9025 - val_accuracy: 0.4458\n",
            "Epoch 10/20\n",
            "397/398 [============================>.] - ETA: 0s - loss: 0.9087 - accuracy: 0.4849\n",
            "Epoch 00010: saving model to training_2/cp-0010.ckpt\n",
            "398/398 [==============================] - 5s 14ms/step - loss: 0.9087 - accuracy: 0.4849 - val_loss: 0.9015 - val_accuracy: 0.4458\n",
            "Epoch 11/20\n",
            "394/398 [============================>.] - ETA: 0s - loss: 0.9085 - accuracy: 0.4875\n",
            "Epoch 00011: saving model to training_2/cp-0011.ckpt\n",
            "398/398 [==============================] - 5s 14ms/step - loss: 0.9085 - accuracy: 0.4879 - val_loss: 0.9021 - val_accuracy: 0.4458\n",
            "Epoch 12/20\n",
            "395/398 [============================>.] - ETA: 0s - loss: 0.9088 - accuracy: 0.4871\n",
            "Epoch 00012: saving model to training_2/cp-0012.ckpt\n",
            "398/398 [==============================] - 6s 14ms/step - loss: 0.9088 - accuracy: 0.4867 - val_loss: 0.9057 - val_accuracy: 0.4458\n",
            "Epoch 13/20\n",
            "397/398 [============================>.] - ETA: 0s - loss: 0.9089 - accuracy: 0.4878\n",
            "Epoch 00013: saving model to training_2/cp-0013.ckpt\n",
            "398/398 [==============================] - 6s 14ms/step - loss: 0.9088 - accuracy: 0.4879 - val_loss: 0.8988 - val_accuracy: 0.4458\n",
            "Epoch 14/20\n",
            "395/398 [============================>.] - ETA: 0s - loss: 0.9094 - accuracy: 0.4851\n",
            "Epoch 00014: saving model to training_2/cp-0014.ckpt\n",
            "398/398 [==============================] - 5s 14ms/step - loss: 0.9088 - accuracy: 0.4854 - val_loss: 0.8992 - val_accuracy: 0.4458\n",
            "Epoch 15/20\n",
            "398/398 [==============================] - ETA: 0s - loss: 0.9085 - accuracy: 0.4867\n",
            "Epoch 00015: saving model to training_2/cp-0015.ckpt\n",
            "398/398 [==============================] - 5s 14ms/step - loss: 0.9085 - accuracy: 0.4867 - val_loss: 0.9004 - val_accuracy: 0.4458\n",
            "Epoch 16/20\n",
            "398/398 [==============================] - ETA: 0s - loss: 0.9087 - accuracy: 0.4840\n",
            "Epoch 00016: saving model to training_2/cp-0016.ckpt\n",
            "398/398 [==============================] - 5s 14ms/step - loss: 0.9087 - accuracy: 0.4840 - val_loss: 0.8994 - val_accuracy: 0.4458\n",
            "Epoch 17/20\n",
            "395/398 [============================>.] - ETA: 0s - loss: 0.9089 - accuracy: 0.4873\n",
            "Epoch 00017: saving model to training_2/cp-0017.ckpt\n",
            "398/398 [==============================] - 5s 14ms/step - loss: 0.9089 - accuracy: 0.4871 - val_loss: 0.8994 - val_accuracy: 0.4458\n",
            "Epoch 18/20\n",
            "396/398 [============================>.] - ETA: 0s - loss: 0.9075 - accuracy: 0.4816\n",
            "Epoch 00018: saving model to training_2/cp-0018.ckpt\n",
            "398/398 [==============================] - 5s 14ms/step - loss: 0.9080 - accuracy: 0.4813 - val_loss: 0.8978 - val_accuracy: 0.4846\n",
            "Epoch 19/20\n",
            "398/398 [==============================] - ETA: 0s - loss: 0.9084 - accuracy: 0.4839\n",
            "Epoch 00019: saving model to training_2/cp-0019.ckpt\n",
            "398/398 [==============================] - 5s 14ms/step - loss: 0.9084 - accuracy: 0.4839 - val_loss: 0.9044 - val_accuracy: 0.4458\n",
            "Epoch 20/20\n",
            "394/398 [============================>.] - ETA: 0s - loss: 0.9077 - accuracy: 0.4887\n",
            "Epoch 00020: saving model to training_2/cp-0020.ckpt\n",
            "398/398 [==============================] - 5s 14ms/step - loss: 0.9086 - accuracy: 0.4879 - val_loss: 0.8992 - val_accuracy: 0.4458\n"
          ],
          "name": "stdout"
        }
      ]
    },
    {
      "cell_type": "code",
      "metadata": {
        "id": "jJbsSwrPDHgB",
        "colab_type": "code",
        "colab": {
          "base_uri": "https://localhost:8080/",
          "height": 689
        },
        "outputId": "fb1082d8-439e-4fed-ba11-0c3670611242"
      },
      "source": [
        "for i in range(1,21):\n",
        "  if i<10:\n",
        "    num=\"0\"+str(i)\n",
        "  else:\n",
        "    num=str(i)\n",
        "  s=\"training_2/cp-00\"+num+\".ckpt\"\n",
        "  model.load_weights(s)\n",
        "  test_loss, test_acc = model.evaluate(X_test,y_test)\n",
        "  print('Test Accuracy: {}'.format(test_acc))"
      ],
      "execution_count": null,
      "outputs": [
        {
          "output_type": "stream",
          "text": [
            "126/126 [==============================] - 1s 6ms/step - loss: 0.9154 - accuracy: 0.4704\n",
            "Test Accuracy: 0.47036853432655334\n",
            "126/126 [==============================] - 1s 6ms/step - loss: 0.9075 - accuracy: 0.4704\n",
            "Test Accuracy: 0.47036853432655334\n",
            "126/126 [==============================] - 1s 6ms/step - loss: 0.9103 - accuracy: 0.4704\n",
            "Test Accuracy: 0.47036853432655334\n",
            "126/126 [==============================] - 1s 6ms/step - loss: 0.9080 - accuracy: 0.4547\n",
            "Test Accuracy: 0.45468127727508545\n",
            "126/126 [==============================] - 1s 6ms/step - loss: 0.9083 - accuracy: 0.4704\n",
            "Test Accuracy: 0.47036853432655334\n",
            "126/126 [==============================] - 1s 6ms/step - loss: 0.9139 - accuracy: 0.4704\n",
            "Test Accuracy: 0.47036853432655334\n",
            "126/126 [==============================] - 1s 6ms/step - loss: 0.9074 - accuracy: 0.4704\n",
            "Test Accuracy: 0.47036853432655334\n",
            "126/126 [==============================] - 1s 7ms/step - loss: 0.9074 - accuracy: 0.4704\n",
            "Test Accuracy: 0.47036853432655334\n",
            "126/126 [==============================] - 1s 6ms/step - loss: 0.9085 - accuracy: 0.4704\n",
            "Test Accuracy: 0.47036853432655334\n",
            "126/126 [==============================] - 1s 6ms/step - loss: 0.9080 - accuracy: 0.4704\n",
            "Test Accuracy: 0.47036853432655334\n",
            "126/126 [==============================] - 1s 6ms/step - loss: 0.9083 - accuracy: 0.4704\n",
            "Test Accuracy: 0.47036853432655334\n",
            "126/126 [==============================] - 1s 6ms/step - loss: 0.9103 - accuracy: 0.4704\n",
            "Test Accuracy: 0.47036853432655334\n",
            "126/126 [==============================] - 1s 6ms/step - loss: 0.9075 - accuracy: 0.4704\n",
            "Test Accuracy: 0.47036853432655334\n",
            "126/126 [==============================] - 1s 6ms/step - loss: 0.9075 - accuracy: 0.4704\n",
            "Test Accuracy: 0.47036853432655334\n",
            "126/126 [==============================] - 1s 6ms/step - loss: 0.9078 - accuracy: 0.4704\n",
            "Test Accuracy: 0.47036853432655334\n",
            "126/126 [==============================] - 1s 6ms/step - loss: 0.9074 - accuracy: 0.4704\n",
            "Test Accuracy: 0.47036853432655334\n",
            "126/126 [==============================] - 1s 6ms/step - loss: 0.9078 - accuracy: 0.4704\n",
            "Test Accuracy: 0.47036853432655334\n",
            "126/126 [==============================] - 1s 6ms/step - loss: 0.9077 - accuracy: 0.4547\n",
            "Test Accuracy: 0.45468127727508545\n",
            "126/126 [==============================] - 1s 6ms/step - loss: 0.9093 - accuracy: 0.4704\n",
            "Test Accuracy: 0.47036853432655334\n",
            "126/126 [==============================] - 1s 6ms/step - loss: 0.9078 - accuracy: 0.4704\n",
            "Test Accuracy: 0.47036853432655334\n"
          ],
          "name": "stdout"
        }
      ]
    },
    {
      "cell_type": "code",
      "metadata": {
        "id": "Idzwzcr1DHiY",
        "colab_type": "code",
        "colab": {
          "base_uri": "https://localhost:8080/",
          "height": 67
        },
        "outputId": "f8577b2e-bee5-4ef9-b477-aaf0896dcad8"
      },
      "source": [
        "model.load_weights(\"training_2/cp-0003.ckpt\")\n",
        "test_loss, test_acc = model.evaluate(X_test,y_test)\n",
        "print('Test Accuracy: {}'.format(test_acc))\n",
        "l=model.predict_classes(X_test)\n",
        "l2=[]\n",
        "for i in l:\n",
        "  if i not in l2:\n",
        "    l2.append(i)\n",
        "    print(i)"
      ],
      "execution_count": null,
      "outputs": [
        {
          "output_type": "stream",
          "text": [
            "126/126 [==============================] - 1s 6ms/step - loss: 0.9103 - accuracy: 0.4704\n",
            "Test Accuracy: 0.47036853432655334\n",
            "2\n"
          ],
          "name": "stdout"
        }
      ]
    },
    {
      "cell_type": "code",
      "metadata": {
        "id": "KaP5rn4XDHnR",
        "colab_type": "code",
        "colab": {}
      },
      "source": [
        ""
      ],
      "execution_count": null,
      "outputs": []
    },
    {
      "cell_type": "code",
      "metadata": {
        "id": "fugiduDUDHsc",
        "colab_type": "code",
        "colab": {}
      },
      "source": [
        ""
      ],
      "execution_count": null,
      "outputs": []
    },
    {
      "cell_type": "code",
      "metadata": {
        "id": "x8kCPBEeDHxa",
        "colab_type": "code",
        "colab": {}
      },
      "source": [
        ""
      ],
      "execution_count": null,
      "outputs": []
    },
    {
      "cell_type": "code",
      "metadata": {
        "id": "7ZggBzAzDH2l",
        "colab_type": "code",
        "colab": {}
      },
      "source": [
        ""
      ],
      "execution_count": null,
      "outputs": []
    },
    {
      "cell_type": "code",
      "metadata": {
        "id": "yo2LWD5BDH7_",
        "colab_type": "code",
        "colab": {}
      },
      "source": [
        ""
      ],
      "execution_count": null,
      "outputs": []
    },
    {
      "cell_type": "code",
      "metadata": {
        "id": "KDP-xeQUDIBX",
        "colab_type": "code",
        "colab": {}
      },
      "source": [
        ""
      ],
      "execution_count": null,
      "outputs": []
    },
    {
      "cell_type": "code",
      "metadata": {
        "id": "ZxrQJ7taDIGl",
        "colab_type": "code",
        "colab": {}
      },
      "source": [
        ""
      ],
      "execution_count": null,
      "outputs": []
    },
    {
      "cell_type": "code",
      "metadata": {
        "id": "NEVstTGrDIMM",
        "colab_type": "code",
        "colab": {}
      },
      "source": [
        ""
      ],
      "execution_count": null,
      "outputs": []
    },
    {
      "cell_type": "code",
      "metadata": {
        "id": "i8N9ZNRhDIRk",
        "colab_type": "code",
        "colab": {}
      },
      "source": [
        ""
      ],
      "execution_count": null,
      "outputs": []
    },
    {
      "cell_type": "code",
      "metadata": {
        "id": "OAleebIlDIWM",
        "colab_type": "code",
        "colab": {}
      },
      "source": [
        ""
      ],
      "execution_count": null,
      "outputs": []
    },
    {
      "cell_type": "code",
      "metadata": {
        "id": "v4Qc3rOHDIbY",
        "colab_type": "code",
        "colab": {}
      },
      "source": [
        ""
      ],
      "execution_count": null,
      "outputs": []
    },
    {
      "cell_type": "code",
      "metadata": {
        "id": "WL_3lVFjDIgZ",
        "colab_type": "code",
        "colab": {}
      },
      "source": [
        ""
      ],
      "execution_count": null,
      "outputs": []
    },
    {
      "cell_type": "code",
      "metadata": {
        "id": "HK6El6HiDIld",
        "colab_type": "code",
        "colab": {}
      },
      "source": [
        ""
      ],
      "execution_count": null,
      "outputs": []
    },
    {
      "cell_type": "code",
      "metadata": {
        "id": "UaA3msvhDIqK",
        "colab_type": "code",
        "colab": {}
      },
      "source": [
        ""
      ],
      "execution_count": null,
      "outputs": []
    },
    {
      "cell_type": "code",
      "metadata": {
        "id": "TNCk-DsADIu8",
        "colab_type": "code",
        "colab": {}
      },
      "source": [
        ""
      ],
      "execution_count": null,
      "outputs": []
    },
    {
      "cell_type": "code",
      "metadata": {
        "id": "PeOMiwbLDI0I",
        "colab_type": "code",
        "colab": {}
      },
      "source": [
        ""
      ],
      "execution_count": null,
      "outputs": []
    },
    {
      "cell_type": "code",
      "metadata": {
        "id": "aKUq7b7vDI5Y",
        "colab_type": "code",
        "colab": {}
      },
      "source": [
        ""
      ],
      "execution_count": null,
      "outputs": []
    },
    {
      "cell_type": "code",
      "metadata": {
        "id": "eHnQP-jUDI2-",
        "colab_type": "code",
        "colab": {}
      },
      "source": [
        ""
      ],
      "execution_count": null,
      "outputs": []
    },
    {
      "cell_type": "code",
      "metadata": {
        "id": "Fq6efL07DIyh",
        "colab_type": "code",
        "colab": {}
      },
      "source": [
        ""
      ],
      "execution_count": null,
      "outputs": []
    },
    {
      "cell_type": "code",
      "metadata": {
        "id": "MolO_tEtDItv",
        "colab_type": "code",
        "colab": {}
      },
      "source": [
        ""
      ],
      "execution_count": null,
      "outputs": []
    },
    {
      "cell_type": "code",
      "metadata": {
        "id": "DzGQ6f32DIo9",
        "colab_type": "code",
        "colab": {}
      },
      "source": [
        ""
      ],
      "execution_count": null,
      "outputs": []
    },
    {
      "cell_type": "code",
      "metadata": {
        "id": "iANW7wwsDIkM",
        "colab_type": "code",
        "colab": {}
      },
      "source": [
        ""
      ],
      "execution_count": null,
      "outputs": []
    },
    {
      "cell_type": "code",
      "metadata": {
        "id": "Ed4EadhNDIe9",
        "colab_type": "code",
        "colab": {}
      },
      "source": [
        ""
      ],
      "execution_count": null,
      "outputs": []
    },
    {
      "cell_type": "code",
      "metadata": {
        "id": "SPWVM3FUDIZ9",
        "colab_type": "code",
        "colab": {}
      },
      "source": [
        ""
      ],
      "execution_count": null,
      "outputs": []
    },
    {
      "cell_type": "code",
      "metadata": {
        "id": "GmrYPuBQDIUr",
        "colab_type": "code",
        "colab": {}
      },
      "source": [
        ""
      ],
      "execution_count": null,
      "outputs": []
    },
    {
      "cell_type": "code",
      "metadata": {
        "id": "CrKkP4kQDIQG",
        "colab_type": "code",
        "colab": {}
      },
      "source": [
        ""
      ],
      "execution_count": null,
      "outputs": []
    },
    {
      "cell_type": "code",
      "metadata": {
        "id": "x23nXOgZDIKi",
        "colab_type": "code",
        "colab": {}
      },
      "source": [
        ""
      ],
      "execution_count": null,
      "outputs": []
    },
    {
      "cell_type": "code",
      "metadata": {
        "id": "ox4O4cvjDIFZ",
        "colab_type": "code",
        "colab": {}
      },
      "source": [
        ""
      ],
      "execution_count": null,
      "outputs": []
    },
    {
      "cell_type": "code",
      "metadata": {
        "id": "-NSwWXjbDH_x",
        "colab_type": "code",
        "colab": {}
      },
      "source": [
        ""
      ],
      "execution_count": null,
      "outputs": []
    },
    {
      "cell_type": "code",
      "metadata": {
        "id": "yaaBVdHmDH6m",
        "colab_type": "code",
        "colab": {}
      },
      "source": [
        ""
      ],
      "execution_count": null,
      "outputs": []
    },
    {
      "cell_type": "code",
      "metadata": {
        "id": "I2vONu-dDH1K",
        "colab_type": "code",
        "colab": {}
      },
      "source": [
        ""
      ],
      "execution_count": null,
      "outputs": []
    },
    {
      "cell_type": "code",
      "metadata": {
        "id": "QmSHg8x_DHv-",
        "colab_type": "code",
        "colab": {}
      },
      "source": [
        ""
      ],
      "execution_count": null,
      "outputs": []
    },
    {
      "cell_type": "code",
      "metadata": {
        "id": "l1fjSSHqDHqt",
        "colab_type": "code",
        "colab": {}
      },
      "source": [
        ""
      ],
      "execution_count": null,
      "outputs": []
    },
    {
      "cell_type": "code",
      "metadata": {
        "id": "dkDaHXVADHl5",
        "colab_type": "code",
        "colab": {}
      },
      "source": [
        ""
      ],
      "execution_count": null,
      "outputs": []
    },
    {
      "cell_type": "code",
      "metadata": {
        "id": "obhVK1ZADHbM",
        "colab_type": "code",
        "colab": {}
      },
      "source": [
        ""
      ],
      "execution_count": null,
      "outputs": []
    },
    {
      "cell_type": "code",
      "metadata": {
        "id": "Emh3dZVwDHWS",
        "colab_type": "code",
        "colab": {}
      },
      "source": [
        ""
      ],
      "execution_count": null,
      "outputs": []
    },
    {
      "cell_type": "code",
      "metadata": {
        "id": "HtBXRUwiDHRX",
        "colab_type": "code",
        "colab": {}
      },
      "source": [
        ""
      ],
      "execution_count": null,
      "outputs": []
    },
    {
      "cell_type": "code",
      "metadata": {
        "id": "C0ycda2vDHMk",
        "colab_type": "code",
        "colab": {}
      },
      "source": [
        ""
      ],
      "execution_count": null,
      "outputs": []
    },
    {
      "cell_type": "code",
      "metadata": {
        "id": "x7FYuudxDHHH",
        "colab_type": "code",
        "colab": {}
      },
      "source": [
        ""
      ],
      "execution_count": null,
      "outputs": []
    },
    {
      "cell_type": "code",
      "metadata": {
        "id": "kTgiE2uTDHCH",
        "colab_type": "code",
        "colab": {}
      },
      "source": [
        ""
      ],
      "execution_count": null,
      "outputs": []
    },
    {
      "cell_type": "code",
      "metadata": {
        "id": "nqvcMzc9DG9J",
        "colab_type": "code",
        "colab": {}
      },
      "source": [
        ""
      ],
      "execution_count": null,
      "outputs": []
    },
    {
      "cell_type": "code",
      "metadata": {
        "id": "c3SiekTRDG31",
        "colab_type": "code",
        "colab": {}
      },
      "source": [
        ""
      ],
      "execution_count": null,
      "outputs": []
    },
    {
      "cell_type": "code",
      "metadata": {
        "id": "owArqsUSDGyl",
        "colab_type": "code",
        "colab": {}
      },
      "source": [
        ""
      ],
      "execution_count": null,
      "outputs": []
    },
    {
      "cell_type": "code",
      "metadata": {
        "id": "eTadw7IqDGtp",
        "colab_type": "code",
        "colab": {}
      },
      "source": [
        ""
      ],
      "execution_count": null,
      "outputs": []
    },
    {
      "cell_type": "code",
      "metadata": {
        "id": "6wZJxgEwDGia",
        "colab_type": "code",
        "colab": {}
      },
      "source": [
        ""
      ],
      "execution_count": null,
      "outputs": []
    },
    {
      "cell_type": "code",
      "metadata": {
        "id": "D4NQ8kjwDGX4",
        "colab_type": "code",
        "colab": {}
      },
      "source": [
        ""
      ],
      "execution_count": null,
      "outputs": []
    },
    {
      "cell_type": "code",
      "metadata": {
        "id": "IBLnuGrdDGTH",
        "colab_type": "code",
        "colab": {}
      },
      "source": [
        ""
      ],
      "execution_count": null,
      "outputs": []
    },
    {
      "cell_type": "code",
      "metadata": {
        "id": "pW2X3Qz7DGOE",
        "colab_type": "code",
        "colab": {}
      },
      "source": [
        ""
      ],
      "execution_count": null,
      "outputs": []
    },
    {
      "cell_type": "code",
      "metadata": {
        "id": "U4EKRxJ0DGJh",
        "colab_type": "code",
        "colab": {}
      },
      "source": [
        ""
      ],
      "execution_count": null,
      "outputs": []
    },
    {
      "cell_type": "code",
      "metadata": {
        "id": "DcrKvsxADGE1",
        "colab_type": "code",
        "colab": {}
      },
      "source": [
        ""
      ],
      "execution_count": null,
      "outputs": []
    },
    {
      "cell_type": "code",
      "metadata": {
        "id": "EjA0qz36DGAu",
        "colab_type": "code",
        "colab": {}
      },
      "source": [
        ""
      ],
      "execution_count": null,
      "outputs": []
    },
    {
      "cell_type": "code",
      "metadata": {
        "id": "cgno1dixDF7Y",
        "colab_type": "code",
        "colab": {}
      },
      "source": [
        ""
      ],
      "execution_count": null,
      "outputs": []
    },
    {
      "cell_type": "code",
      "metadata": {
        "id": "lzzN957bDF03",
        "colab_type": "code",
        "colab": {}
      },
      "source": [
        ""
      ],
      "execution_count": null,
      "outputs": []
    },
    {
      "cell_type": "code",
      "metadata": {
        "id": "CBJKY-aJDFnq",
        "colab_type": "code",
        "colab": {}
      },
      "source": [
        ""
      ],
      "execution_count": null,
      "outputs": []
    },
    {
      "cell_type": "code",
      "metadata": {
        "id": "jdM5xVW5DFiv",
        "colab_type": "code",
        "colab": {}
      },
      "source": [
        ""
      ],
      "execution_count": null,
      "outputs": []
    },
    {
      "cell_type": "code",
      "metadata": {
        "id": "Sr_oQEdDDFYU",
        "colab_type": "code",
        "colab": {}
      },
      "source": [
        ""
      ],
      "execution_count": null,
      "outputs": []
    },
    {
      "cell_type": "code",
      "metadata": {
        "id": "9aluKU1WDFNg",
        "colab_type": "code",
        "colab": {}
      },
      "source": [
        ""
      ],
      "execution_count": null,
      "outputs": []
    },
    {
      "cell_type": "code",
      "metadata": {
        "id": "orcpgvY4DFI-",
        "colab_type": "code",
        "colab": {}
      },
      "source": [
        ""
      ],
      "execution_count": null,
      "outputs": []
    },
    {
      "cell_type": "code",
      "metadata": {
        "id": "osTN5Oe2DE_v",
        "colab_type": "code",
        "colab": {}
      },
      "source": [
        ""
      ],
      "execution_count": null,
      "outputs": []
    },
    {
      "cell_type": "code",
      "metadata": {
        "id": "OEPGXvlvDE7K",
        "colab_type": "code",
        "colab": {}
      },
      "source": [
        ""
      ],
      "execution_count": null,
      "outputs": []
    }
  ]
}